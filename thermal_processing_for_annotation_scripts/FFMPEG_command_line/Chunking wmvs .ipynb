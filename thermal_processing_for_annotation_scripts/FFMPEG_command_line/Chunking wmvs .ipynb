{
 "cells": [
  {
   "cell_type": "code",
   "execution_count": 51,
   "metadata": {},
   "outputs": [],
   "source": [
    "from subprocess import check_call\n",
    "import pandas as pd\n",
    "import os\n",
    "import glob\n",
    "import cv2\n",
    "import numpy as np\n",
    "import shlex\n",
    "import pipes\n",
    "from subprocess import check_call"
   ]
  },
  {
   "cell_type": "code",
   "execution_count": 52,
   "metadata": {},
   "outputs": [],
   "source": [
    "datelist = [ d.date() for d in pd.date_range(start = pd.to_datetime('2019-08-01'), end = pd.to_datetime('2019-08-10')).to_pydatetime()]"
   ]
  },
  {
   "cell_type": "code",
   "execution_count": 53,
   "metadata": {},
   "outputs": [
    {
     "name": "stdout",
     "output_type": "stream",
     "text": [
      "246083\n",
      "200000\n",
      "246083\n",
      "222757\n",
      "200000\n",
      "222757\n",
      "209509\n",
      "200000\n",
      "209509\n",
      "93292\n",
      "200000\n",
      "93292\n",
      "250369\n",
      "200000\n",
      "250369\n",
      "191453\n",
      "200000\n",
      "191453\n",
      "90098\n",
      "200000\n",
      "90098\n",
      "35044\n",
      "200000\n",
      "35044\n"
     ]
    }
   ],
   "source": [
    "vid_len = 1000\n",
    "drive = 'D:/'\n",
    "\n",
    "for date in datelist:\n",
    "    \n",
    "    curr_date = f'{date.year:04}' + f'{date.month:02}' + f'{date.day:02}'\n",
    "    \n",
    "    if os.path.isdir(drive + curr_date) == True:\n",
    "        os.chdir(drive + curr_date)\n",
    "        file_name = glob.glob('*.wmv')\n",
    "        \n",
    "        if len(file_name) > 0:\n",
    "            \n",
    "            cap = cv2.VideoCapture(file_name[0])\n",
    "            length = int(cap.get(cv2.CAP_PROP_FRAME_COUNT))\n",
    "            print( length )\n",
    "            \n",
    "            total_length = length / 50\n",
    "            \n",
    "            start_time = 0\n",
    "                        \n",
    "            counter = 0\n",
    "            \n",
    "            while (start_time + vid_len) < total_length:\n",
    "                \n",
    "                vid_name = f'{counter:02}_' + file_name[0].split('.')[0] +  '.mp4'\n",
    "                command = 'ffmpeg -i ' + pipes.quote( file_name[0] ) + ' -ss ' + pipes.quote( str(start_time) ) + ' -t ' + pipes.quote( str(vid_len) ) + ' -r 50 -filter:v \"setpts=0.1*PTS\" ' + pipes.quote(vid_name)\n",
    "                check_call(shlex.split(command))\n",
    "\n",
    "                counter += 1\n",
    "                \n",
    "                start_time += vid_len\n",
    "                \n",
    "            last_dur = total_length - start_time\n",
    "            vid_name = f'{counter:02}_' + file_name[0].split('.')[0] +  '.mp4'\n",
    "            command = 'ffmpeg -i ' + pipes.quote( file_name[0] ) + ' -ss ' + pipes.quote( str( start_time ) ) + ' -to ' + pipes.quote( str( total_length ) ) + ' -r 50 -filter:v \"setpts=0.1*PTS\" ' + pipes.quote(vid_name)\n",
    "            check_call(shlex.split(command))\n",
    "\n",
    "            print( start )\n",
    "            \n",
    "            print(length)\n"
   ]
  },
  {
   "cell_type": "code",
   "execution_count": 50,
   "metadata": {},
   "outputs": [
    {
     "data": {
      "text/plain": [
       "'ffmpeg -i 20190821_16_01_00-233_13_01_00_924.wmv -ss 3000 -t 1000 -acodec copy -vcodec copy -r 50 -filter:v \"setpts=0.1*PTS\" 03_20190821_16_01_00-233_13_01_00_924.mp4'"
      ]
     },
     "execution_count": 50,
     "metadata": {},
     "output_type": "execute_result"
    }
   ],
   "source": [
    "'ffmpeg -i ' + pipes.quote( str( file_name[0] ) ) + ' -ss ' + pipes.quote( str( start_time ) ) + ' -t ' + pipes.quote( str( vid_len ) ) + ' -acodec copy -vcodec copy -r 50 -filter:v \"setpts=0.1*PTS\" ' + pipes.quote(vid_name)"
   ]
  },
  {
   "cell_type": "code",
   "execution_count": 41,
   "metadata": {},
   "outputs": [
    {
     "ename": "TypeError",
     "evalue": "expected string or bytes-like object",
     "output_type": "error",
     "traceback": [
      "\u001b[1;31m---------------------------------------------------------------------------\u001b[0m",
      "\u001b[1;31mTypeError\u001b[0m                                 Traceback (most recent call last)",
      "\u001b[1;32m<ipython-input-41-9371afb9a3db>\u001b[0m in \u001b[0;36m<module>\u001b[1;34m\u001b[0m\n\u001b[1;32m----> 1\u001b[1;33m \u001b[0mpipes\u001b[0m\u001b[1;33m.\u001b[0m\u001b[0mquote\u001b[0m\u001b[1;33m(\u001b[0m \u001b[0mvid_len\u001b[0m \u001b[1;33m)\u001b[0m\u001b[1;33m\u001b[0m\u001b[1;33m\u001b[0m\u001b[0m\n\u001b[0m",
      "\u001b[1;32m~\\Anaconda3\\lib\\shlex.py\u001b[0m in \u001b[0;36mquote\u001b[1;34m(s)\u001b[0m\n\u001b[0;32m    312\u001b[0m     \u001b[1;32mif\u001b[0m \u001b[1;32mnot\u001b[0m \u001b[0ms\u001b[0m\u001b[1;33m:\u001b[0m\u001b[1;33m\u001b[0m\u001b[1;33m\u001b[0m\u001b[0m\n\u001b[0;32m    313\u001b[0m         \u001b[1;32mreturn\u001b[0m \u001b[1;34m\"''\"\u001b[0m\u001b[1;33m\u001b[0m\u001b[1;33m\u001b[0m\u001b[0m\n\u001b[1;32m--> 314\u001b[1;33m     \u001b[1;32mif\u001b[0m \u001b[0m_find_unsafe\u001b[0m\u001b[1;33m(\u001b[0m\u001b[0ms\u001b[0m\u001b[1;33m)\u001b[0m \u001b[1;32mis\u001b[0m \u001b[1;32mNone\u001b[0m\u001b[1;33m:\u001b[0m\u001b[1;33m\u001b[0m\u001b[1;33m\u001b[0m\u001b[0m\n\u001b[0m\u001b[0;32m    315\u001b[0m         \u001b[1;32mreturn\u001b[0m \u001b[0ms\u001b[0m\u001b[1;33m\u001b[0m\u001b[1;33m\u001b[0m\u001b[0m\n\u001b[0;32m    316\u001b[0m \u001b[1;33m\u001b[0m\u001b[0m\n",
      "\u001b[1;31mTypeError\u001b[0m: expected string or bytes-like object"
     ]
    }
   ],
   "source": [
    "pipes.quote( vid_len )"
   ]
  },
  {
   "cell_type": "code",
   "execution_count": null,
   "metadata": {},
   "outputs": [],
   "source": [
    "   \n",
    "set directory to hard drive\n",
    "\n",
    "go through each folder\n",
    "\n",
    "identify / save the wmv file in each folder\n",
    "\n",
    "find file size\n",
    "\n",
    "determine number of chunks to make \n",
    "\n",
    "\n",
    "import cv2\n",
    "\n",
    "cap = cv2.VideoCapture(\"video.mp4\")\n",
    "length = int(cap.get(cv2.CAP_PROP_FRAME_COUNT))\n",
    "print( length )\n",
    "\n",
    "\n",
    "Ok or just decide on the number of frames each video should contain\n",
    "\n",
    "speed up the video and write it into chunks with a subprocess call (hopefully do these simultaneously) based on the number of frames determined above\n",
    "\n",
    "Do that step in a loop to write each chunk\n",
    "\n",
    "\n",
    "\n",
    "\n"
   ]
  }
 ],
 "metadata": {
  "kernelspec": {
   "display_name": "Python 3",
   "language": "python",
   "name": "python3"
  },
  "language_info": {
   "codemirror_mode": {
    "name": "ipython",
    "version": 3
   },
   "file_extension": ".py",
   "mimetype": "text/x-python",
   "name": "python",
   "nbconvert_exporter": "python",
   "pygments_lexer": "ipython3",
   "version": "3.7.4"
  }
 },
 "nbformat": 4,
 "nbformat_minor": 2
}
