{
 "cells": [
  {
   "cell_type": "code",
   "execution_count": 1,
   "metadata": {},
   "outputs": [
    {
     "ename": "SyntaxError",
     "evalue": "invalid syntax (<ipython-input-1-8a0187e622c9>, line 3)",
     "output_type": "error",
     "traceback": [
      "\u001b[1;36m  File \u001b[1;32m\"<ipython-input-1-8a0187e622c9>\"\u001b[1;36m, line \u001b[1;32m3\u001b[0m\n\u001b[1;33m    cd C:\\Users\\cloftus\\Desktop\\Results\\1_20190804\u001b[0m\n\u001b[1;37m       ^\u001b[0m\n\u001b[1;31mSyntaxError\u001b[0m\u001b[1;31m:\u001b[0m invalid syntax\n"
     ]
    }
   ],
   "source": [
    "## command line script for turning the series of pictures produced in the script below to movies for upload\n",
    "\n",
    "cd C:\\Users\\cloftus\\Desktop\\Results\\1_20190804\n",
    "ffmpeg -f concat -r 30 -i 1_20190804.txt -c:v libx264 -crf 15 -pix_fmt yuv420p -vf pad=ceil(iw/2)*2:ceil(ih/2)*2 1_20190804.mp4\n",
    "        \n",
    "        \n",
    " "
   ]
  },
  {
   "cell_type": "code",
   "execution_count": null,
   "metadata": {},
   "outputs": [],
   "source": [
    "## command line script for chunking up pre-existing videos (mostly thinking of the wmv's here) and changing their frame rate\n",
    "\n",
    "E:\n",
    "\n",
    "cd 20190801\n",
    "    \n",
    "ffmpeg -i 20190801_17_06_00-213_14_06_02_088.wmv -ss 0 -t 600 first_chunk.wmv\n",
    "\n",
    "# ss is the start time in the original video of the resulting chunk in seconds, and t is the duration of the resulting chunk in seconds\n",
    "\n",
    "\n",
    "## to increase the frame rate\n",
    "\n",
    "ffmpeg -i first_chunk.mp4 -r 50 -filter:v \"setpts=0.1*PTS\" first_chunk_fast.mp4\n",
    "    \n",
    "# r is the final desired frame rate, and the number before the PTS is the inverse of the multiplier by which you want to speed up the video\n",
    "\n",
    "\n"
   ]
  },
  {
   "cell_type": "code",
   "execution_count": null,
   "metadata": {},
   "outputs": [],
   "source": [
    "import os"
   ]
  },
  {
   "cell_type": "code",
   "execution_count": null,
   "metadata": {},
   "outputs": [],
   "source": [
    "### made an attempt at calling to the command line through python, but it didn't work\n",
    "\n",
    "os.chdir('C:/Users/cloftus/Desktop/Results/2_20190725')\n",
    "\n",
    "!ffmpeg -f concat -r 30 -i 2_20190725.txt -c:v libx264 -crf 15 -pix_fmt yuv420p -vf pad=ceil(iw/2)*2:ceil(ih/2)*2 2_20190725.mp4"
   ]
  }
 ],
 "metadata": {
  "kernelspec": {
   "display_name": "Python 3",
   "language": "python",
   "name": "python3"
  },
  "language_info": {
   "codemirror_mode": {
    "name": "ipython",
    "version": 3
   },
   "file_extension": ".py",
   "mimetype": "text/x-python",
   "name": "python",
   "nbconvert_exporter": "python",
   "pygments_lexer": "ipython3",
   "version": "3.7.4"
  }
 },
 "nbformat": 4,
 "nbformat_minor": 2
}
