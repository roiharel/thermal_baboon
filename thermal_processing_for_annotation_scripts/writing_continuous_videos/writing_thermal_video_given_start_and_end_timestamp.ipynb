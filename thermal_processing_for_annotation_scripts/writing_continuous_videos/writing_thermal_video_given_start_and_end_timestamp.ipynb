{
 "cells": [
  {
   "cell_type": "code",
   "execution_count": 2,
   "metadata": {},
   "outputs": [
    {
     "name": "stderr",
     "output_type": "stream",
     "text": [
      "...........s...........................................x...........................s.....s......................................x....................................sC:\\Users\\cloftus\\Anaconda3\\lib\\site-packages\\h5py\\_hl\\files.py:258: H5pyDeprecationWarning: File.fid has been deprecated. Use File.id instead.\n",
      "  \"Use File.id instead.\", H5pyDeprecationWarning)\n",
      "...s......ss.ss...............................................................................ss...................ssssss.....................................................................x....x.........................x......x..................................................ssss...................s........................................\n",
      "----------------------------------------------------------------------\n",
      "Ran 509 tests in 3.566s\n",
      "\n",
      "OK (skipped=22, expected failures=6)\n"
     ]
    },
    {
     "data": {
      "text/plain": [
       "<unittest.runner.TextTestResult run=509 errors=0 failures=0>"
      ]
     },
     "execution_count": 2,
     "metadata": {},
     "output_type": "execute_result"
    }
   ],
   "source": [
    "import fnv\n",
    "import fnv.reduce\n",
    "import fnv.file  \n",
    "import numpy as np\n",
    "import seaborn as sns\n",
    "import datetime as dt\n",
    "import time\n",
    "import pandas as pd\n",
    "from tkinter import filedialog\n",
    "from tkinter import *\n",
    "import os\n",
    "import matplotlib.pyplot as plt\n",
    "import glob\n",
    "import h5py\n",
    "import cv2\n",
    "\n",
    "h5py.run_tests()"
   ]
  },
  {
   "cell_type": "code",
   "execution_count": 5,
   "metadata": {},
   "outputs": [],
   "source": [
    "# root = Tk()\n",
    "# root.filename =  filedialog.askopenfilename(initialdir = \"/\",title = \"Select file\",filetypes = ((\"jpeg files\",\"*.jpg\"),(\"all files\",\"*.*\")))\n",
    "# print (root.filename)"
   ]
  },
  {
   "cell_type": "code",
   "execution_count": 6,
   "metadata": {},
   "outputs": [
    {
     "name": "stdout",
     "output_type": "stream",
     "text": [
      "[datetime.date(2019, 8, 6), datetime.date(2019, 8, 7)]\n"
     ]
    }
   ],
   "source": [
    "datelist = [ d.date() for d in pd.date_range(start = pd.to_datetime('2019-08-06'), end = pd.to_datetime('2019-08-07')).to_pydatetime()]\n",
    "print(datelist)"
   ]
  },
  {
   "cell_type": "code",
   "execution_count": null,
   "metadata": {},
   "outputs": [],
   "source": [
    "\n",
    "## hard coded writing from raw files to a given video with a start and end timestamp\n",
    "# timestamps are not rounded. Every frame is written as is between start_timestamp and end_timestmp\n",
    "\n",
    "zoom = 5\n",
    "\n",
    "drive = 'E:/'\n",
    "\n",
    "start_timestamp = '2019_08_08_15_44_29_67'\n",
    "end_timestamp = '2019_08_08_16_23_08_514'\n",
    "\n",
    "\n",
    "write_to = 'C:/Users/cloftus/Desktop/vids_for_prediction/' + start_timestamp\n",
    "\n",
    "\n",
    "start_dt = dt.datetime.strptime(start_timestamp, '%Y_%m_%d_%H_%M_%S_%f')\n",
    "end_dt = dt.datetime.strptime(end_timestamp, '%Y_%m_%d_%H_%M_%S_%f')\n",
    "\n",
    "curr_date = f'{start_dt.year:04}' + f'{start_dt.month:02}' + f'{start_dt.day:02}'\n",
    "\n",
    "os.chdir( drive + curr_date )\n",
    "\n",
    "file_name = glob.glob('*.seq')\n",
    "\n",
    "im = fnv.file.ImagerFile(file_name[0])\n",
    "\n",
    "im.get_frame(0)\n",
    "\n",
    "day1 = int(im.frame_info[0]['value'][:3])\n",
    "\n",
    "os.makedirs(write_to)\n",
    "os.chdir(write_to)\n",
    "\n",
    "\n",
    "for i in range(im.num_frames):\n",
    "    \n",
    "    im.get_frame(i)\n",
    "\n",
    "    day2 = int(im.frame_info[0]['value'][:3])\n",
    "\n",
    "    day_diff = day2 - day1\n",
    "\n",
    "    timestamp = f'{start_dt.year:04}-' + f'{start_dt.month:02}-' + f'{(start_dt.day+day_diff):02} ' + im.frame_info[0]['value'][4:]\n",
    "\n",
    "    timestamp = dt.datetime.strptime(timestamp, '%Y-%m-%d %H:%M:%S.%f')\n",
    "    \n",
    "    rounded_stamp = round_to_fifth( timestamp )\n",
    "    \n",
    "    if (rounded_stamp >= start_dt) & (rounded_stamp <= end_dt):\n",
    "\n",
    "        final = np.array(im.final, copy=False).reshape((im.height, im.width))\n",
    "\n",
    "        final1 = final - final.mean()\n",
    "\n",
    "        fig, ax = plt.subplots(figsize = (final.shape[1] / (100/zoom), final.shape[0] / (100/zoom)))  \n",
    "\n",
    "        ax = sns.heatmap(final1, vmin = -np.std(final1), vmax = final1.max(), xticklabels = False, yticklabels = False, cbar = False)\n",
    "\n",
    "        if final1.shape[1] > 1000:\n",
    "\n",
    "            plt.xlabel(  timestamp.strftime(\"%Y-%m-%d %H:%M:%S.%f\") , fontsize = 55*zoom / 5 )\n",
    "\n",
    "        else:\n",
    "\n",
    "            plt.xlabel(  timestamp.strftime(\"%Y-%m-%d %H:%M:%S.%f\") , fontsize = 25*zoom / 5 )\n",
    "\n",
    "        plt.savefig( timestamp.strftime(\"%Y%m%d_%H%M%S%f\") + '.tiff' , bbox_inches = 'tight')\n",
    "\n",
    "        plt.close()\n",
    "        \n",
    "        \n"
   ]
  },
  {
   "cell_type": "code",
   "execution_count": 7,
   "metadata": {},
   "outputs": [],
   "source": [
    "### helpful bit of code that renames files so they have a counter in front of the timestamp\n",
    "\n",
    "root_path = 'C:/Users/cloftus/Desktop/Results/'\n",
    "\n",
    "os.chdir(root_path)\n",
    "\n",
    "folders = os.listdir()\n",
    "\n",
    "for folder in folders:\n",
    "        \n",
    "        os.chdir(root_path + folder)\n",
    "    \n",
    "        files = os.listdir()\n",
    "    \n",
    "        counter = 0\n",
    "        \n",
    "        for file in files:\n",
    "            \n",
    "            if 'tiff' in file:\n",
    "                #print( file.split( '_', 1) )\n",
    "                #print( file.split( '_', 1)[1] )\n",
    "                #os.rename( file,   file.split( '_', 1)[1] )\n",
    "                #os.rename( file,   file[4: ] )\n",
    "                #os.rename( file,  f'{counter:05}' + '_' + file )\n",
    "                \n",
    "                counter += 1"
   ]
  },
  {
   "cell_type": "code",
   "execution_count": 13,
   "metadata": {},
   "outputs": [],
   "source": [
    "## makes a txt file for each folder in Results/ of all of the tiff images in that folder \n",
    "## this txt file will be used by ffmpeg in the command line to string the pictures together into a video\n",
    "\n",
    "root_path = 'C:/Users/cloftus/Desktop/Results/'\n",
    "\n",
    "os.chdir(root_path)\n",
    "\n",
    "folders = os.listdir()\n",
    "\n",
    "for folder in folders:\n",
    "        \n",
    "    os.chdir(root_path + folder)\n",
    "    \n",
    "    files = os.listdir()\n",
    "    \n",
    "    text_file = open(folder + '.txt', 'w')\n",
    "        \n",
    "    for file in files:\n",
    "\n",
    "        if 'tiff' in file:\n",
    "\n",
    "            n = text_file.write('file ' + \"'\" + file + \"'\" + '\\n')\n",
    "\n",
    "    text_file.close()"
   ]
  },
  {
   "cell_type": "code",
   "execution_count": null,
   "metadata": {},
   "outputs": [],
   "source": []
  }
 ],
 "metadata": {
  "kernelspec": {
   "display_name": "Python 3",
   "language": "python",
   "name": "python3"
  },
  "language_info": {
   "codemirror_mode": {
    "name": "ipython",
    "version": 3
   },
   "file_extension": ".py",
   "mimetype": "text/x-python",
   "name": "python",
   "nbconvert_exporter": "python",
   "pygments_lexer": "ipython3",
   "version": "3.7.4"
  }
 },
 "nbformat": 4,
 "nbformat_minor": 2
}
