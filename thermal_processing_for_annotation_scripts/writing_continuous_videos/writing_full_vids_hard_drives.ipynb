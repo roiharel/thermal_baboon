{
 "cells": [
  {
   "cell_type": "code",
   "execution_count": 2,
   "metadata": {},
   "outputs": [
    {
     "name": "stderr",
     "output_type": "stream",
     "text": [
      "...........s...........................................x...........................s.....s......................................x....................................sC:\\Users\\cloftus\\Anaconda3\\lib\\site-packages\\h5py\\_hl\\files.py:258: H5pyDeprecationWarning: File.fid has been deprecated. Use File.id instead.\n",
      "  \"Use File.id instead.\", H5pyDeprecationWarning)\n",
      "...s......ss.ss...............................................................................ss...................ssssss.....................................................................x....x.........................x......x..................................................ssss...................s........................................\n",
      "----------------------------------------------------------------------\n",
      "Ran 509 tests in 1.720s\n",
      "\n",
      "OK (skipped=22, expected failures=6)\n"
     ]
    },
    {
     "data": {
      "text/plain": [
       "<unittest.runner.TextTestResult run=509 errors=0 failures=0>"
      ]
     },
     "execution_count": 2,
     "metadata": {},
     "output_type": "execute_result"
    }
   ],
   "source": [
    "import fnv\n",
    "import fnv.reduce\n",
    "import fnv.file  \n",
    "import numpy as np\n",
    "import seaborn as sns\n",
    "import datetime as dt\n",
    "import time\n",
    "import pandas as pd\n",
    "from tkinter import filedialog\n",
    "from tkinter import *\n",
    "import os\n",
    "import matplotlib.pyplot as plt\n",
    "import glob\n",
    "import h5py\n",
    "import cv2\n",
    "from guppy import hpy\n",
    "import gc\n",
    "import shlex\n",
    "import pipes\n",
    "from subprocess import check_call\n",
    "\n",
    "gc.collect()\n",
    "\n",
    "h5py.run_tests()"
   ]
  },
  {
   "cell_type": "code",
   "execution_count": 3,
   "metadata": {},
   "outputs": [],
   "source": [
    "os.chdir('C:/Users/cloftus/Desktop/')"
   ]
  },
  {
   "cell_type": "code",
   "execution_count": null,
   "metadata": {},
   "outputs": [],
   "source": []
  },
  {
   "cell_type": "code",
   "execution_count": 3,
   "metadata": {},
   "outputs": [],
   "source": [
    "options = np.array([000000, 200000, 400000, 600000, 800000, 1000000])\n",
    "\n",
    "def round_to_fifth(time_):\n",
    "    \n",
    "    new = options[ abs(time_.microsecond - options).argmin() ]\n",
    "    \n",
    "    if new != 1000000:\n",
    "        new_time = time_.replace(microsecond = new)\n",
    "    else:\n",
    "        temp_time = time_ + dt.timedelta(seconds = 1)\n",
    "        new_time = temp_time.replace(microsecond = 000000)\n",
    "    \n",
    "    return(new_time)\n",
    "\n",
    "def time_correct( _timestamp_ ):\n",
    "    if drive == 'D:/thermal_data/':\n",
    "        _timestamp_ = _timestamp_ - time_offset_D\n",
    "    if drive == 'F:/':\n",
    "        _timestamp_ = _timestamp_ - time_offset_F\n",
    "        \n",
    "    return(_timestamp_)"
   ]
  },
  {
   "cell_type": "code",
   "execution_count": 4,
   "metadata": {},
   "outputs": [],
   "source": [
    "# root = Tk()\n",
    "# root.filename =  filedialog.askopenfilename(initialdir = \"/\",title = \"Select file\",filetypes = ((\"jpeg files\",\"*.jpg\"),(\"all files\",\"*.*\")))\n",
    "# print (root.filename)"
   ]
  },
  {
   "cell_type": "code",
   "execution_count": 5,
   "metadata": {},
   "outputs": [
    {
     "name": "stdout",
     "output_type": "stream",
     "text": [
      "[datetime.date(2019, 8, 11)]\n"
     ]
    }
   ],
   "source": [
    "datelist = [ d.date() for d in pd.date_range(start = pd.to_datetime('2019-08-11'), end = pd.to_datetime('2019-08-11')).to_pydatetime()]\n",
    "print(datelist)"
   ]
  },
  {
   "cell_type": "code",
   "execution_count": 10,
   "metadata": {
    "scrolled": false
   },
   "outputs": [
    {
     "name": "stdout",
     "output_type": "stream",
     "text": [
      "got_frame\n"
     ]
    },
    {
     "data": {
      "text/plain": [
       "<Figure size 3686.4x2764.8 with 0 Axes>"
      ]
     },
     "metadata": {},
     "output_type": "display_data"
    }
   ],
   "source": [
    "\n",
    "## writing all frames from a given thermal recording, separated into minute bins. Timestamps unrounded\n",
    "\n",
    "zoom = 5\n",
    "\n",
    "start_frame = 17987\n",
    "\n",
    "vid_length = 1*60*60\n",
    "\n",
    "drive = 'F:/'\n",
    "\n",
    "start_timestamp = '2019-08-18'\n",
    "\n",
    "write_to = 'F:/thermal_vids/' + start_timestamp\n",
    "\n",
    "#write_to = 'L:/analysis/annotation_vids/' + start_timestamp\n",
    "\n",
    "start_dt = dt.datetime.strptime(start_timestamp, '%Y-%m-%d')\n",
    "\n",
    "curr_date = f'{start_dt.year:04}' + f'{start_dt.month:02}' + f'{start_dt.day:02}'\n",
    "\n",
    "os.chdir( drive + curr_date )\n",
    "\n",
    "file_name = glob.glob('*.seq')\n",
    "\n",
    "#im = fnv.file.ImagerFile(file_name[0])\n",
    "\n",
    "im.get_frame(0)\n",
    "\n",
    "print( 'got_frame')\n",
    "\n",
    "day1 = int(im.frame_info[0]['value'][:3])\n",
    "\n",
    "start = f'{start_dt.year:04}-' + f'{start_dt.month:02}-' + f'{start_dt.day:02} ' + im.frame_info[0]['value'][4:]\n",
    "\n",
    "start_dt = dt.datetime.strptime(start, '%Y-%m-%d %H:%M:%S.%f')\n",
    "\n",
    "\n",
    "if not os.path.isdir( write_to + '/' ):\n",
    "    \n",
    "    os.makedirs ( write_to + '/')\n",
    "\n",
    "os.chdir( write_to + '/')\n",
    "\n",
    "\n",
    "final = np.array(im.final, copy=False).reshape((im.height, im.width))\n",
    "    \n",
    "width = final.shape[1] / (100 / zoom)\n",
    "    \n",
    "height = final.shape[0] / (100 / zoom)\n",
    "\n",
    "fig = plt.figure( figsize = ( width, height ) )  \n",
    "\n",
    "if start_frame > 0:\n",
    "    \n",
    "    counter = 0\n",
    "    \n",
    "else:\n",
    "    \n",
    "    counter = 1\n",
    "    \n",
    "for i in range(start_frame, im.num_frames):\n",
    "    \n",
    "    if im.get_frame( i ) == False:\n",
    "        blaasdfadff\n",
    "        \n",
    "    #start__ = time.time()\n",
    "\n",
    "    im.get_frame(i)\n",
    "\n",
    "    #print( 'get_frame: ' , time.time() - start__ )\n",
    "\n",
    "    #start__ = time.time()\n",
    "    \n",
    "    day2 = int(im.frame_info[0]['value'][:3])\n",
    "\n",
    "    day_diff = day2 - day1\n",
    "\n",
    "    timestamp = f'{start_dt.year:04}-' + f'{start_dt.month:02}-' + f'{(start_dt.day+day_diff):02} ' + im.frame_info[0]['value'][4:]\n",
    "\n",
    "    timestamp = dt.datetime.strptime(timestamp, '%Y-%m-%d %H:%M:%S.%f')\n",
    "    \n",
    "    #print( 'timestamp_info: ' , time.time() - start__ )\n",
    "\n",
    "    #start__t = time.time()\n",
    "    \n",
    "    if timestamp > ( start_dt + dt.timedelta( seconds = vid_length ) ):\n",
    "        \n",
    "        if not counter == 0:\n",
    "           \n",
    "            str_name = start_dt.strftime(\"%Y%m%d_%H%M%S%f\")\n",
    "\n",
    "            # make a text_file of all the tiffs in the folder\n",
    "            text_file = open(str_name + '.txt', 'w')\n",
    "\n",
    "            files = sorted( os.listdir() )\n",
    "\n",
    "            for file in files:\n",
    "\n",
    "                if 'tiff' in file:\n",
    "\n",
    "                    n = text_file.write('file ' + \"'\" + file + \"'\" + '\\n')\n",
    "\n",
    "            text_file.close()\n",
    "\n",
    "            ## command line script for turning the series of pictures produced in the script below to movies for upload\n",
    "\n",
    "            txt_name = str_name + '.txt'\n",
    "            vid_name = str_name + '.mp4'\n",
    "\n",
    "            command = 'ffmpeg -f concat -r 60 -i ' + pipes.quote( txt_name ) + ' -c:v libx264 -crf 15 -pix_fmt yuv420p -vf pad=ceil(iw/2)*2:ceil(ih/2)*2 ' + pipes.quote(vid_name)\n",
    "            check_call(shlex.split(command))\n",
    "\n",
    "        \n",
    "        to_delete = glob.glob('*.tiff')\n",
    "        \n",
    "        for item in to_delete:\n",
    "            os.remove( item )\n",
    "        \n",
    "        start_dt = timestamp\n",
    "        \n",
    "        counter = 1\n",
    "        #os.makedirs ( write_to + '/' + start_dt.strftime(\"%Y%m%d_%H%M%S%f\") )\n",
    "        \n",
    "        #os.chdir( write_to + '/' + start_dt.strftime(\"%Y%m%d_%H%M%S%f\") )\n",
    "     \n",
    "    \n",
    "    #print( 'if_statement: ' , time.time() - start__t )\n",
    "\n",
    "    #start__ = time.time()\n",
    "        \n",
    "    final = np.array(im.final, copy=False).reshape( ( im.height, im.width ) )\n",
    "\n",
    "    final1 = final - final.mean()\n",
    "    \n",
    "    #print( 'matrix: ' , time.time() - start__ )\n",
    "\n",
    "    #start__ = time.time()\n",
    "\n",
    "    sns.heatmap(final1, vmin = -np.std(final1), vmax = final1.max(), xticklabels = False, yticklabels = False, cbar = False)\n",
    "\n",
    "    if final1.shape[1] > 1000:\n",
    "\n",
    "        plt.xlabel(  timestamp.strftime(\"%Y-%m-%d %H:%M:%S.%f\") , fontsize = 55*zoom / 5 )\n",
    "\n",
    "    else:\n",
    "\n",
    "        plt.xlabel(  timestamp.strftime(\"%Y-%m-%d %H:%M:%S.%f\") , fontsize = 25*zoom / 5 )\n",
    "\n",
    "    \n",
    "    #print( 'plotting: ' , time.time() - start__ )\n",
    "\n",
    "    #start__ = time.time()\n",
    "\n",
    "    plt.savefig( f'{i:06}_' + timestamp.strftime(\"%Y%m%d_%H%M%S%f\") + '.tiff' , bbox_inches = 'tight')\n",
    "    \n",
    "    #print( 'save_plot: ' , time.time() - start__ )\n",
    "\n",
    "    #start__ = time.time()\n",
    "    \n",
    "    fig.clear()\n",
    "    \n",
    "    #plt.clf()\n",
    "    \n",
    "    #plt.cla()\n",
    "\n",
    "    #plt.close( fig )\n",
    "    #plt.close( 'all' )\n",
    "    \n",
    "    del day2, day_diff, final, final1\n",
    "    \n",
    "    gc.collect()\n",
    "    \n",
    "    #print( 'clean_up: ' , time.time() - start__ )\n",
    "    \n",
    "    #print( 'total_iter: ' , time.time() - start__t )\n",
    "\n",
    "\n",
    "    \n",
    "    #h = hpy()\n",
    "    #print(h.heap())\n",
    "\n"
   ]
  },
  {
   "cell_type": "code",
   "execution_count": 11,
   "metadata": {},
   "outputs": [
    {
     "data": {
      "text/plain": [
       "0"
      ]
     },
     "execution_count": 11,
     "metadata": {},
     "output_type": "execute_result"
    }
   ],
   "source": [
    "str_name = start_dt.strftime(\"%Y%m%d_%H%M%S%f\")\n",
    "\n",
    "# make a text_file of all the tiffs in the folder\n",
    "text_file = open(str_name + '.txt', 'w')\n",
    "\n",
    "files = sorted( os.listdir() )\n",
    "\n",
    "for file in files:\n",
    "\n",
    "    \n",
    "    if 'tiff' in file:\n",
    "\n",
    "        n = text_file.write('file ' + \"'\" + file + \"'\" + '\\n')\n",
    "\n",
    "text_file.close()\n",
    "\n",
    "## command line script for turning the series of pictures produced in the script below to movies for upload\n",
    "\n",
    "txt_name = str_name + '.txt'\n",
    "vid_name = str_name + '.mp4'\n",
    "\n",
    "command = 'ffmpeg -f concat -r 60 -i ' + pipes.quote( txt_name ) + ' -c:v libx264 -crf 15 -pix_fmt yuv420p -vf pad=ceil(iw/2)*2:ceil(ih/2)*2 ' + pipes.quote(vid_name)\n",
    "check_call(shlex.split(command))\n",
    "\n",
    "\n",
    "#to_delete = glob.glob('*.tiff')\n",
    "\n",
    "#for item in to_delete:\n",
    "#    os.remove( item )\n"
   ]
  },
  {
   "cell_type": "code",
   "execution_count": 12,
   "metadata": {},
   "outputs": [],
   "source": [
    "to_delete = glob.glob('*.tiff')\n",
    "\n",
    "for item in to_delete:\n",
    "    os.remove( item )\n"
   ]
  },
  {
   "cell_type": "code",
   "execution_count": null,
   "metadata": {},
   "outputs": [],
   "source": []
  },
  {
   "cell_type": "code",
   "execution_count": null,
   "metadata": {},
   "outputs": [],
   "source": []
  },
  {
   "cell_type": "code",
   "execution_count": 12,
   "metadata": {},
   "outputs": [
    {
     "data": {
      "text/plain": [
       "{'name': 'FrameNumber', 'value': '17237', 'unit': 'counter', 'type': 'int'}"
      ]
     },
     "execution_count": 12,
     "metadata": {},
     "output_type": "execute_result"
    }
   ],
   "source": [
    "im.frame_info[1]"
   ]
  },
  {
   "cell_type": "code",
   "execution_count": null,
   "metadata": {},
   "outputs": [],
   "source": []
  },
  {
   "cell_type": "code",
   "execution_count": null,
   "metadata": {},
   "outputs": [],
   "source": []
  },
  {
   "cell_type": "code",
   "execution_count": null,
   "metadata": {},
   "outputs": [],
   "source": [
    "## dummy code for stack overflow question\n",
    "\n",
    "from guppy import hpy\n",
    "import matplotlib.pyplot as plt\n",
    "import numpy as np\n",
    "import seaborn as sns\n",
    "\n",
    "\n",
    "\n",
    "os.chdir('C:/Users/cloftus/Desktop/demo')\n",
    "zoom = 5\n",
    "\n",
    "for i in range(10000):\n",
    "\n",
    "    \n",
    "    day2 = np.random.randint(10, 15)  ## saves the day associated with the matrix\n",
    "\n",
    "    day_diff = day2 - 10 ## calculates the difference in days between the current matrix and a starting point\n",
    "\n",
    "    final = np.random.random( (768, 1024) ) ## initial\n",
    "\n",
    "    final1 = final - final.mean()\n",
    "\n",
    "    width = final.shape[1] / (100 / zoom)\n",
    "\n",
    "    height = final.shape[0] / (100 / zoom)\n",
    "\n",
    "    fig, ax = plt.subplots(figsize = (width, height))  \n",
    "\n",
    "    ax = sns.heatmap(final1, vmin = -np.std(final1), vmax = final1.max(), xticklabels = False, yticklabels = False, cbar = False)\n",
    "\n",
    "    plt.xlabel(  day_diff , fontsize = 25*zoom / 5 )\n",
    "\n",
    "    plt.savefig( f'{i:06}_' + str(day_diff) + '.tiff' , bbox_inches = 'tight')\n",
    "\n",
    "    fig.clear()\n",
    "    \n",
    "    plt.clf()\n",
    "    \n",
    "    plt.cla()\n",
    "\n",
    "    plt.close( fig )\n",
    "    plt.close( 'all' )\n",
    "    \n",
    "    plt.ioff()\n",
    "\n",
    "    del fig, ax, day2, day_diff, final, final1, width, height\n",
    "    \n",
    "    gc.collect()\n",
    "\n",
    "    h = hpy()\n",
    "    print(h.heap())\n",
    "\n",
    "\n",
    "\n"
   ]
  },
  {
   "cell_type": "code",
   "execution_count": null,
   "metadata": {},
   "outputs": [],
   "source": [
    "### helpful bit of code that renames files so they have a counter in front of the timestamp\n",
    "\n",
    "root_path = 'C:/Users/cloftus/Desktop/Results/'\n",
    "\n",
    "os.chdir(root_path)\n",
    "\n",
    "folders = os.listdir()\n",
    "\n",
    "for folder in folders:\n",
    "        \n",
    "        os.chdir(root_path + folder)\n",
    "    \n",
    "        files = os.listdir()\n",
    "    \n",
    "        counter = 0\n",
    "        \n",
    "        for file in files:\n",
    "            \n",
    "            if 'tiff' in file:\n",
    "                #print( file.split( '_', 1) )\n",
    "                #print( file.split( '_', 1)[1] )\n",
    "                #os.rename( file,   file.split( '_', 1)[1] )\n",
    "                #os.rename( file,   file[4: ] )\n",
    "                #os.rename( file,  f'{counter:05}' + '_' + file )\n",
    "                \n",
    "                counter += 1"
   ]
  },
  {
   "cell_type": "code",
   "execution_count": null,
   "metadata": {},
   "outputs": [],
   "source": [
    "## makes a txt file for each folder in Results/ of all of the tiff images in that folder \n",
    "## this txt file will be used by ffmpeg in the command line to string the pictures together into a video\n",
    "\n",
    "root_path = 'C:/Users/cloftus/Desktop/Results/'\n",
    "\n",
    "os.chdir(root_path)\n",
    "\n",
    "folders = os.listdir()\n",
    "\n",
    "for folder in folders:\n",
    "        \n",
    "    os.chdir(root_path + folder)\n",
    "    \n",
    "    files = sorted( os.listdir() )\n",
    "    \n",
    "    text_file = open(folder + '.txt', 'w')\n",
    "        \n",
    "    for file in files:\n",
    "\n",
    "        if 'tiff' in file:\n",
    "\n",
    "            n = text_file.write('file ' + \"'\" + file + \"'\" + '\\n')\n",
    "\n",
    "    text_file.close()"
   ]
  },
  {
   "cell_type": "code",
   "execution_count": null,
   "metadata": {},
   "outputs": [],
   "source": []
  },
  {
   "cell_type": "code",
   "execution_count": null,
   "metadata": {},
   "outputs": [],
   "source": []
  }
 ],
 "metadata": {
  "kernelspec": {
   "display_name": "Python 3",
   "language": "python",
   "name": "python3"
  },
  "language_info": {
   "codemirror_mode": {
    "name": "ipython",
    "version": 3
   },
   "file_extension": ".py",
   "mimetype": "text/x-python",
   "name": "python",
   "nbconvert_exporter": "python",
   "pygments_lexer": "ipython3",
   "version": "3.7.4"
  }
 },
 "nbformat": 4,
 "nbformat_minor": 2
}
