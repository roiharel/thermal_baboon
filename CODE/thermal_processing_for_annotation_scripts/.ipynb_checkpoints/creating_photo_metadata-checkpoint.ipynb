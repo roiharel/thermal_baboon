{
 "cells": [
  {
   "cell_type": "code",
   "execution_count": 1,
   "metadata": {},
   "outputs": [],
   "source": [
    "import os"
   ]
  },
  {
   "cell_type": "code",
   "execution_count": 3,
   "metadata": {},
   "outputs": [
    {
     "data": {
      "text/plain": [
       "['.ipynb_checkpoints',\n",
       " 'FFMPEG_command_line_scripts.ipynb',\n",
       " 'opencv_writing_of_entire_thermal_vid.ipynb',\n",
       " 'scratch_work.ipynb',\n",
       " 'thermal_and_acc_animation.ipynb',\n",
       " 'Untitled.ipynb',\n",
       " 'writing_all_frames_from_given_thermalvid_minute_chunks.ipynb',\n",
       " 'writing_frames_for_annotation.ipynb',\n",
       " 'writing_frames_for_burst_annotations.ipynb',\n",
       " 'writing_h5_from_all_thermal.ipynb',\n",
       " 'writing_thermal_video_given_start_and_end_timestamp.ipynb',\n",
       " 'writing_tiffs_from_all_thermals.ipynb']"
      ]
     },
     "execution_count": 3,
     "metadata": {},
     "output_type": "execute_result"
    }
   ],
   "source": [
    "os.listdir()"
   ]
  },
  {
   "cell_type": "code",
   "execution_count": null,
   "metadata": {
    "collapsed": true
   },
   "outputs": [],
   "source": []
  }
 ],
 "metadata": {
  "kernelspec": {
   "display_name": "Python 3",
   "language": "python",
   "name": "python3"
  },
  "language_info": {
   "codemirror_mode": {
    "name": "ipython",
    "version": 3
   },
   "file_extension": ".py",
   "mimetype": "text/x-python",
   "name": "python",
   "nbconvert_exporter": "python",
   "pygments_lexer": "ipython3",
   "version": "3.7.4"
  }
 },
 "nbformat": 4,
 "nbformat_minor": 2
}
