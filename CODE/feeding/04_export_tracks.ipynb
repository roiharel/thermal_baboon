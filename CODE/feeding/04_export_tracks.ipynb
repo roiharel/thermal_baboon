{
 "cells": [
  {
   "cell_type": "code",
   "execution_count": 1,
   "metadata": {},
   "outputs": [],
   "source": [
    "import numpy as np\n",
    "import cv2\n",
    "import os\n",
    "import glob\n",
    "import matplotlib.pyplot as plt\n",
    "from matplotlib import cm\n",
    "\n",
    "from read_metadata import read_metadata\n"
   ]
  },
  {
   "cell_type": "code",
   "execution_count": 2,
   "metadata": {},
   "outputs": [
    {
     "output_type": "execute_result",
     "data": {
      "text/plain": [
       "'/home/baboonfield/Documents/CV/feeding/im/*.jpg'"
      ]
     },
     "metadata": {},
     "execution_count": 2
    }
   ],
   "source": [
    "%store -r vid_name\n",
    "metadata = read_metadata(vid_name)\n",
    "\n",
    "video_out_file = metadata.folder_output + vid_name + '_tracks.mp4'\n",
    "os.path.join(metadata.folder_images, '*.jpg')"
   ]
  },
  {
   "cell_type": "code",
   "execution_count": 4,
   "metadata": {},
   "outputs": [],
   "source": [
    "#import re\n",
    "#def atoi(text):\n",
    "#    return int(text) if text.isdigit() else text\n",
    "\n",
    "#def natural_keys(text):\n",
    "#    '''\n",
    "#    alist.sort(key=natural_keys) sorts in human order\n",
    "#    http://nedbatchelder.com/blog/200712/human_sorting.html\n",
    "#    (See Toothy's implementation in the comments)\n",
    "#    '''\n",
    "#    return [ atoi(c) for c in re.split(r'(\\d+)', text) ]\n",
    "\n",
    "\n",
    "frame_files = sorted(glob.glob(os.path.join(metadata.folder_images, '*.jpg')))\n",
    "#frame_files.sort(key=natural_keys)\n",
    "\n",
    "###print(\"{} frame files found.\".format(len(frame_files)))\n",
    "tracks_file = metadata.folder_output + 'tracks_' + vid_name + '.npy'\n",
    "tracks = np.load(tracks_file, allow_pickle=True) \n"
   ]
  },
  {
   "cell_type": "code",
   "execution_count": 5,
   "metadata": {},
   "outputs": [],
   "source": [
    "im = cv2.imread(frame_files[0])\n",
    "\n",
    "fourcc = cv2.VideoWriter_fourcc(*'mp4v')\n",
    "video_writer = cv2.VideoWriter(video_out_file, fourcc, 23.976, (im.shape[1], im.shape[0]))"
   ]
  },
  {
   "cell_type": "code",
   "execution_count": 8,
   "metadata": {},
   "outputs": [],
   "source": [
    "import pandas as pd\n",
    "\n",
    "def calc_distance(a, b):\n",
    "    dx = a[1] - b[1]\n",
    "    dy = a[1] - b[1]\n",
    "    return np.sqrt(np.sum(dx**2 + dy**2))\n",
    "\n",
    "def get_color(f):\n",
    "    \"\"\"return 3d hsv color based on f from 0 to 1\"\"\"\n",
    "    c = (np.array(cm.hsv(f)[:3]) * 255)\n",
    "    return (int(c[0]), int(c[1]), int(c[2]))\n",
    "\n",
    "frame_ind = 1\n",
    "\n",
    "steps = 50 # 90\n",
    "step_inc = 1 # 5\n",
    "circle_radius = 5 # 20\n",
    "\n",
    "with_tail = True\n",
    "\n",
    "colors = np.random.uniform(size=len(tracks))\n",
    "colors = [get_color(c) for c in colors]\n",
    "\n",
    "all_tracking = pd.DataFrame({'frame': [], 'id': [], 'x': [], 'y':[],'class':[]})\n",
    "\n",
    "#all_tracking = []\n",
    "all_distance = []\n",
    "#ax = plt.gca()\n",
    "for frame_ind in range(0, len(frame_files), 1):\n",
    "\n",
    "    im = cv2.imread(frame_files[frame_ind])\n",
    "    ###if frame_ind % 250 == 0:\n",
    "       ## print(frame_ind)\n",
    "\n",
    "\n",
    "    for track_ind, track in enumerate(tracks):\n",
    "        rel_frame = frame_ind - track['first_frame']\n",
    "        if rel_frame >= 0:\n",
    "            if track['last_frame'] >= frame_ind:\n",
    "                    center_pos = track['track'][rel_frame]\n",
    "                    cv2.circle(im, (int(center_pos[0]), int(center_pos[1])), circle_radius, colors                                    [track_ind], 2)\n",
    "                    cv2.putText(im, str(track_ind), (int(center_pos[0]), int(center_pos[1])), 0, 1, colors[track_ind],2)\n",
    "\n",
    "                    to_append = [frame_ind,track_ind,int(center_pos[0]), int(center_pos[1]),track['class']]\n",
    "                    a_series = pd.Series(to_append, index = all_tracking.columns)\n",
    "                    all_tracking = all_tracking.append(a_series, ignore_index=True)\n",
    "\n",
    "                    # ax.annotate(str(track_ind),(int(center_pos[0]), int(center_pos[1])))\n",
    "                    if with_tail:\n",
    "                        for inc in range(step_inc, steps, step_inc):\n",
    "                            tail_ind = rel_frame-inc\n",
    "                            if tail_ind >= 0:\n",
    "                                pos = track['track'][tail_ind]\n",
    "                                distance = calc_distance(pos, center_pos)\n",
    "                                if distance < circle_radius:\n",
    "                                    continue\n",
    "                                cv2.circle(im, (int(pos[0]), int(pos[1])), 2, colors[track_ind], -1)\n",
    "                            else:\n",
    "                                break\n",
    "                \n",
    "    video_writer.write(im)\n",
    "video_writer.release()\n",
    "all_tracking.to_csv(metadata.folder_output + 'tracks_' + vid_name + '.csv', index=False)\n"
   ]
  },
  {
   "cell_type": "code",
   "execution_count": 10,
   "metadata": {},
   "outputs": [],
   "source": [
    "files_in_directory = os.listdir(metadata.folder_images)\n",
    "filtered_files = [file for file in files_in_directory if file.endswith(\".jpg\")]\n",
    "for file in filtered_files:\n",
    "    path_to_file = os.path.join(metadata.folder_images, file)\n",
    "    os.remove(path_to_file)"
   ]
  }
 ],
 "metadata": {
  "kernelspec": {
   "display_name": "Python 3",
   "language": "python",
   "name": "python3"
  },
  "language_info": {
   "codemirror_mode": {
    "name": "ipython",
    "version": 3
   },
   "file_extension": ".py",
   "mimetype": "text/x-python",
   "name": "python",
   "nbconvert_exporter": "python",
   "pygments_lexer": "ipython3",
   "version": "3.6.13-final"
  }
 },
 "nbformat": 4,
 "nbformat_minor": 4
}