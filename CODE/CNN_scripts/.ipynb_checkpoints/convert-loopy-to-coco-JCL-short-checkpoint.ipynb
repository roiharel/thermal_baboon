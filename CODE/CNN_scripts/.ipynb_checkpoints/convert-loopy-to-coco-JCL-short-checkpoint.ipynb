{
 "cells": [
  {
   "cell_type": "code",
   "execution_count": 1,
   "metadata": {},
   "outputs": [],
   "source": [
    "import json\n",
    "import os\n",
    "import glob\n",
    "import matplotlib.pyplot as plt\n",
    "import shutil"
   ]
  },
  {
   "cell_type": "code",
   "execution_count": 2,
   "metadata": {},
   "outputs": [],
   "source": [
    "\n",
    "## root on my local computer\n",
    "# root = 'C:/Users/cloftus/Documents/thermal_baboon/annotations/'\n",
    "\n",
    "## root on my HiWi computer\n",
    "# root = 'C:/Users/meerkat/Documents/thermal_baboons/annotations/'\n",
    "\n",
    "## root on the server\n",
    "root = 'Y:/cloftus/analysis/thermal_baboon_project/'\n",
    "\n",
    "new_baboon_images_root = root + 'complete_thermal_annotations_2020_10_21/frames_matching_annotations'\n",
    "new_annotations_root = root + 'complete_thermal_annotations_2020_10_21/annotations/json'\n",
    "output_folder = root + 'all_coco_annotations'\n",
    "coco_annotation_file = os.path.join(output_folder, 'baboon_coco_annotations.json')\n",
    "output_image_folder = os.path.join(output_folder, 'images')\n",
    "os.makedirs(output_image_folder, exist_ok=True)\n",
    "baboon_folders = glob.glob(os.path.join(new_baboon_images_root, '*'))\n",
    "# print(*baboon_folders, sep='\\n')"
   ]
  },
  {
   "cell_type": "code",
   "execution_count": 3,
   "metadata": {},
   "outputs": [],
   "source": [
    "image_files = glob.glob(os.path.join(new_baboon_images_root, '*', '*.tiff'))\n"
   ]
  },
  {
   "cell_type": "code",
   "execution_count": 4,
   "metadata": {},
   "outputs": [],
   "source": [
    "image_names = [os.path.basename(f) for f in image_files]\n",
    "short_names = ['_'.join(name.split('_')[1:]) for name in image_names]\n",
    "\n",
    "\n"
   ]
  },
  {
   "cell_type": "code",
   "execution_count": 5,
   "metadata": {},
   "outputs": [
    {
     "name": "stdout",
     "output_type": "stream",
     "text": [
      "976 976\n",
      "976 976\n"
     ]
    }
   ],
   "source": [
    "print(len(image_files), len(list(set(image_files))))\n",
    "print(len(short_names), len(list(set(short_names))))"
   ]
  },
  {
   "cell_type": "code",
   "execution_count": 6,
   "metadata": {},
   "outputs": [
    {
     "data": {
      "text/plain": [
       "['Y:/cloftus/analysis/thermal_baboon_project/complete_thermal_annotations_2020_10_21/annotations/json\\\\video_1_20190731_annotation_1326_11171_data.json',\n",
       " 'Y:/cloftus/analysis/thermal_baboon_project/complete_thermal_annotations_2020_10_21/annotations/json\\\\video_1_20190731_annotation_1327_18251_data.json',\n",
       " 'Y:/cloftus/analysis/thermal_baboon_project/complete_thermal_annotations_2020_10_21/annotations/json\\\\video_1_20190731_annotation_1328_26321_data.json',\n",
       " 'Y:/cloftus/analysis/thermal_baboon_project/complete_thermal_annotations_2020_10_21/annotations/json\\\\video_1_20190731_annotation_1329_33401_data.json',\n",
       " 'Y:/cloftus/analysis/thermal_baboon_project/complete_thermal_annotations_2020_10_21/annotations/json\\\\video_1_20190731_annotation_1369_161_data.json',\n",
       " 'Y:/cloftus/analysis/thermal_baboon_project/complete_thermal_annotations_2020_10_21/annotations/json\\\\video_1_20190801_annotation_1324_01001_data.json',\n",
       " 'Y:/cloftus/analysis/thermal_baboon_project/complete_thermal_annotations_2020_10_21/annotations/json\\\\video_1_20190801_annotation_1619_1901951_data.json',\n",
       " 'Y:/cloftus/analysis/thermal_baboon_project/complete_thermal_annotations_2020_10_21/annotations/json\\\\video_1_20190803_annotation_1346_4101_data.json',\n",
       " 'Y:/cloftus/analysis/thermal_baboon_project/complete_thermal_annotations_2020_10_21/annotations/json\\\\video_1_20190803_annotation_1347_1952001_data.json',\n",
       " 'Y:/cloftus/analysis/thermal_baboon_project/complete_thermal_annotations_2020_10_21/annotations/json\\\\video_1_20190803_annotation_1348_1001051_data.json',\n",
       " 'Y:/cloftus/analysis/thermal_baboon_project/complete_thermal_annotations_2020_10_21/annotations/json\\\\video_1_20190803_annotation_1385_10151_data.json',\n",
       " 'Y:/cloftus/analysis/thermal_baboon_project/complete_thermal_annotations_2020_10_21/annotations/json\\\\video_1_20190804_annotation_1558_22271_data.json',\n",
       " 'Y:/cloftus/analysis/thermal_baboon_project/complete_thermal_annotations_2020_10_21/annotations/json\\\\video_1_20190804_annotation_1559_1952001_data.json',\n",
       " 'Y:/cloftus/analysis/thermal_baboon_project/complete_thermal_annotations_2020_10_21/annotations/json\\\\video_1_20190806_annotation_1359_53581_data.json',\n",
       " 'Y:/cloftus/analysis/thermal_baboon_project/complete_thermal_annotations_2020_10_21/annotations/json\\\\video_1_20190806_annotation_1360_1271321_data.json',\n",
       " 'Y:/cloftus/analysis/thermal_baboon_project/complete_thermal_annotations_2020_10_21/annotations/json\\\\video_1_20190806_annotation_1367_1952001_data.json',\n",
       " 'Y:/cloftus/analysis/thermal_baboon_project/complete_thermal_annotations_2020_10_21/annotations/json\\\\video_1_20190806_annotation_1445_1191241_data.json',\n",
       " 'Y:/cloftus/analysis/thermal_baboon_project/complete_thermal_annotations_2020_10_21/annotations/json\\\\video_1_20190807_annotation_1389_34442_data.json',\n",
       " 'Y:/cloftus/analysis/thermal_baboon_project/complete_thermal_annotations_2020_10_21/annotations/json\\\\video_1_20190808_133006000000_annotation_1683_091_data.json',\n",
       " 'Y:/cloftus/analysis/thermal_baboon_project/complete_thermal_annotations_2020_10_21/annotations/json\\\\video_1_20190808_153811600000_annotation_1682_091_data.json',\n",
       " 'Y:/cloftus/analysis/thermal_baboon_project/complete_thermal_annotations_2020_10_21/annotations/json\\\\video_1_20190808_174617200000_annotation_1681_091_data.json',\n",
       " 'Y:/cloftus/analysis/thermal_baboon_project/complete_thermal_annotations_2020_10_21/annotations/json\\\\video_1_20190808_195422600000_annotation_1679_091_data.json',\n",
       " 'Y:/cloftus/analysis/thermal_baboon_project/complete_thermal_annotations_2020_10_21/annotations/json\\\\video_1_20190808_220228200000_annotation_1680_091_data.json',\n",
       " 'Y:/cloftus/analysis/thermal_baboon_project/complete_thermal_annotations_2020_10_21/annotations/json\\\\video_1_20190809_001033800000_annotation_1678_091_data.json',\n",
       " 'Y:/cloftus/analysis/thermal_baboon_project/complete_thermal_annotations_2020_10_21/annotations/json\\\\video_1_20190809_133008600000_annotation_1849_091_data.json',\n",
       " 'Y:/cloftus/analysis/thermal_baboon_project/complete_thermal_annotations_2020_10_21/annotations/json\\\\video_1_20190809_143058600000_annotation_1851_091_data.json',\n",
       " 'Y:/cloftus/analysis/thermal_baboon_project/complete_thermal_annotations_2020_10_21/annotations/json\\\\video_1_20190809_153148600000_annotation_1852_091_data.json',\n",
       " 'Y:/cloftus/analysis/thermal_baboon_project/complete_thermal_annotations_2020_10_21/annotations/json\\\\video_1_20190810_133003600000_annotation_1931_091_data.json',\n",
       " 'Y:/cloftus/analysis/thermal_baboon_project/complete_thermal_annotations_2020_10_21/annotations/json\\\\video_1_20190810_135328200000_annotation_1929_091_data.json',\n",
       " 'Y:/cloftus/analysis/thermal_baboon_project/complete_thermal_annotations_2020_10_21/annotations/json\\\\video_1_20190810_141652800000_annotation_1934_091_data.json',\n",
       " 'Y:/cloftus/analysis/thermal_baboon_project/complete_thermal_annotations_2020_10_21/annotations/json\\\\video_1_20190810_144017600000_annotation_1932_091_data.json',\n",
       " 'Y:/cloftus/analysis/thermal_baboon_project/complete_thermal_annotations_2020_10_21/annotations/json\\\\video_1_20190810_150342200000_annotation_1933_091_data.json',\n",
       " 'Y:/cloftus/analysis/thermal_baboon_project/complete_thermal_annotations_2020_10_21/annotations/json\\\\video_1_20190810_152706800000_annotation_1935_091_data.json',\n",
       " 'Y:/cloftus/analysis/thermal_baboon_project/complete_thermal_annotations_2020_10_21/annotations/json\\\\video_1_20190811_133006600000_annotation_1960_091_data.json',\n",
       " 'Y:/cloftus/analysis/thermal_baboon_project/complete_thermal_annotations_2020_10_21/annotations/json\\\\video_1_20190811_150620800000_annotation_1961_091_data.json',\n",
       " 'Y:/cloftus/analysis/thermal_baboon_project/complete_thermal_annotations_2020_10_21/annotations/json\\\\video_1_20190811_164235000000_annotation_1966_091_data.json',\n",
       " 'Y:/cloftus/analysis/thermal_baboon_project/complete_thermal_annotations_2020_10_21/annotations/json\\\\video_1_20190811_181849200000_annotation_1963_091_data.json',\n",
       " 'Y:/cloftus/analysis/thermal_baboon_project/complete_thermal_annotations_2020_10_21/annotations/json\\\\video_1_20190811_195503400000_annotation_1976_091_data.json',\n",
       " 'Y:/cloftus/analysis/thermal_baboon_project/complete_thermal_annotations_2020_10_21/annotations/json\\\\video_1_20190811_213117600000_annotation_1965_091_data.json',\n",
       " 'Y:/cloftus/analysis/thermal_baboon_project/complete_thermal_annotations_2020_10_21/annotations/json\\\\video_20190812_135602574000_annotation_1996_943794653_data.json',\n",
       " 'Y:/cloftus/analysis/thermal_baboon_project/complete_thermal_annotations_2020_10_21/annotations/json\\\\video_20190812_135602574000_annotation_1997_10000100293_data.json',\n",
       " 'Y:/cloftus/analysis/thermal_baboon_project/complete_thermal_annotations_2020_10_21/annotations/json\\\\video_20190812_135602574000_annotation_1998_11000110293_data.json',\n",
       " 'Y:/cloftus/analysis/thermal_baboon_project/complete_thermal_annotations_2020_10_21/annotations/json\\\\video_20190812_135602574000_annotation_2004_15000150293_data.json',\n",
       " 'Y:/cloftus/analysis/thermal_baboon_project/complete_thermal_annotations_2020_10_21/annotations/json\\\\video_20190812_135602574000_annotation_2005_16969169983_data.json',\n",
       " 'Y:/cloftus/analysis/thermal_baboon_project/complete_thermal_annotations_2020_10_21/annotations/json\\\\video_20190812_155602640000_annotation_2037_0293_data.json',\n",
       " 'Y:/cloftus/analysis/thermal_baboon_project/complete_thermal_annotations_2020_10_21/annotations/json\\\\video_20190812_155602640000_annotation_2038_482048493_data.json',\n",
       " 'Y:/cloftus/analysis/thermal_baboon_project/complete_thermal_annotations_2020_10_21/annotations/json\\\\video_20190812_155602640000_annotation_2043_711371423_data.json',\n",
       " 'Y:/cloftus/analysis/thermal_baboon_project/complete_thermal_annotations_2020_10_21/annotations/json\\\\video_20190812_155602640000_annotation_2044_10365103943_data.json',\n",
       " 'Y:/cloftus/analysis/thermal_baboon_project/complete_thermal_annotations_2020_10_21/annotations/json\\\\video_20190812_155602640000_annotation_2045_17972180013_data.json',\n",
       " 'Y:/cloftus/analysis/thermal_baboon_project/complete_thermal_annotations_2020_10_21/annotations/json\\\\video_20190812_175602930000_annotation_2046_5595883_data.json',\n",
       " 'Y:/cloftus/analysis/thermal_baboon_project/complete_thermal_annotations_2020_10_21/annotations/json\\\\video_20190812_175602930000_annotation_2049_223522643_data.json',\n",
       " 'Y:/cloftus/analysis/thermal_baboon_project/complete_thermal_annotations_2020_10_21/annotations/json\\\\video_20190812_175602930000_annotation_2050_388839173_data.json',\n",
       " 'Y:/cloftus/analysis/thermal_baboon_project/complete_thermal_annotations_2020_10_21/annotations/json\\\\video_20190812_175602930000_annotation_2072_700070293_data.json',\n",
       " 'Y:/cloftus/analysis/thermal_baboon_project/complete_thermal_annotations_2020_10_21/annotations/json\\\\video_20190812_175602930000_annotation_2073_10000100293_data.json',\n",
       " 'Y:/cloftus/analysis/thermal_baboon_project/complete_thermal_annotations_2020_10_21/annotations/json\\\\video_20190813_133005916000_annotation_2074_544754763_data.json',\n",
       " 'Y:/cloftus/analysis/thermal_baboon_project/complete_thermal_annotations_2020_10_21/annotations/json\\\\video_20190813_133005916000_annotation_2090_614561743_data.json',\n",
       " 'Y:/cloftus/analysis/thermal_baboon_project/complete_thermal_annotations_2020_10_21/annotations/json\\\\video_20190813_133005916000_annotation_2093_10000100293_data.json',\n",
       " 'Y:/cloftus/analysis/thermal_baboon_project/complete_thermal_annotations_2020_10_21/annotations/json\\\\video_20190813_133005916000_annotation_2096_11130111593_data.json',\n",
       " 'Y:/cloftus/analysis/thermal_baboon_project/complete_thermal_annotations_2020_10_21/annotations/json\\\\video_20190813_133005916000_annotation_2097_16507165363_data.json',\n",
       " 'Y:/cloftus/analysis/thermal_baboon_project/complete_thermal_annotations_2020_10_21/annotations/json\\\\video_20190813_143006059000_annotation_2098_210021293_data.json',\n",
       " 'Y:/cloftus/analysis/thermal_baboon_project/complete_thermal_annotations_2020_10_21/annotations/json\\\\video_20190813_143006059000_annotation_2111_400040293_data.json',\n",
       " 'Y:/cloftus/analysis/thermal_baboon_project/complete_thermal_annotations_2020_10_21/annotations/json\\\\video_20190813_143006059000_annotation_2112_700070293_data.json',\n",
       " 'Y:/cloftus/analysis/thermal_baboon_project/complete_thermal_annotations_2020_10_21/annotations/json\\\\video_20190813_143006059000_annotation_2113_900090293_data.json',\n",
       " 'Y:/cloftus/analysis/thermal_baboon_project/complete_thermal_annotations_2020_10_21/annotations/json\\\\video_20190813_143006059000_annotation_2114_17000170293_data.json',\n",
       " 'Y:/cloftus/analysis/thermal_baboon_project/complete_thermal_annotations_2020_10_21/annotations/json\\\\video_20190813_153006101000_annotation_2116_10000100293_data.json',\n",
       " 'Y:/cloftus/analysis/thermal_baboon_project/complete_thermal_annotations_2020_10_21/annotations/json\\\\video_20190813_153006101000_annotation_2117_11000110293_data.json',\n",
       " 'Y:/cloftus/analysis/thermal_baboon_project/complete_thermal_annotations_2020_10_21/annotations/json\\\\video_20190813_153006101000_annotation_2118_13000130293_data.json',\n",
       " 'Y:/cloftus/analysis/thermal_baboon_project/complete_thermal_annotations_2020_10_21/annotations/json\\\\video_20190813_153006101000_annotation_2119_15000150293_data.json',\n",
       " 'Y:/cloftus/analysis/thermal_baboon_project/complete_thermal_annotations_2020_10_21/annotations/json\\\\video_20190813_153006101000_annotation_2120_17000170293_data.json',\n",
       " 'Y:/cloftus/analysis/thermal_baboon_project/complete_thermal_annotations_2020_10_21/annotations/json\\\\video_20190814_140004981000_annotation_2168_14065140973_data.json',\n",
       " 'Y:/cloftus/analysis/thermal_baboon_project/complete_thermal_annotations_2020_10_21/annotations/json\\\\video_20190814_150004991000_annotation_2169_305130833_data.json',\n",
       " 'Y:/cloftus/analysis/thermal_baboon_project/complete_thermal_annotations_2020_10_21/annotations/json\\\\video_20190814_150004991000_annotation_2170_430243343_data.json',\n",
       " 'Y:/cloftus/analysis/thermal_baboon_project/complete_thermal_annotations_2020_10_21/annotations/json\\\\video_20190814_150004991000_annotation_2171_13382134143_data.json',\n",
       " 'Y:/cloftus/analysis/thermal_baboon_project/complete_thermal_annotations_2020_10_21/annotations/json\\\\video_20190814_160005155000_annotation_2075_896889973_data.json',\n",
       " 'Y:/cloftus/analysis/thermal_baboon_project/complete_thermal_annotations_2020_10_21/annotations/json\\\\video_20190814_170005190000_annotation_2077_896089893_data.json',\n",
       " 'Y:/cloftus/analysis/thermal_baboon_project/complete_thermal_annotations_2020_10_21/annotations/json\\\\video_20190814_180005328000_annotation_2080_893289613_data.json',\n",
       " 'Y:/cloftus/analysis/thermal_baboon_project/complete_thermal_annotations_2020_10_21/annotations/json\\\\video_20190814_180005328000_annotation_2110_15516155463_data.json',\n",
       " 'Y:/cloftus/analysis/thermal_baboon_project/complete_thermal_annotations_2020_10_21/annotations/json\\\\video_20190814_190005383000_annotation_2082_443544653_data.json',\n",
       " 'Y:/cloftus/analysis/thermal_baboon_project/complete_thermal_annotations_2020_10_21/annotations/json\\\\video_20190814_190005383000_annotation_2094_11893119253_data.json',\n",
       " 'Y:/cloftus/analysis/thermal_baboon_project/complete_thermal_annotations_2020_10_21/annotations/json\\\\video_20190814_200005502000_annotation_2109_7407713_data.json',\n",
       " 'Y:/cloftus/analysis/thermal_baboon_project/complete_thermal_annotations_2020_10_21/annotations/json\\\\video_20190816_143006213000_annotation_2123_657466033_data.json',\n",
       " 'Y:/cloftus/analysis/thermal_baboon_project/complete_thermal_annotations_2020_10_21/annotations/json\\\\video_20190816_143006213000_annotation_2124_13363133923_data.json',\n",
       " 'Y:/cloftus/analysis/thermal_baboon_project/complete_thermal_annotations_2020_10_21/annotations/json\\\\video_20190816_153006257000_annotation_2125_894689763_data.json',\n",
       " 'Y:/cloftus/analysis/thermal_baboon_project/complete_thermal_annotations_2020_10_21/annotations/json\\\\video_20190816_153006257000_annotation_2132_17236172683_data.json',\n",
       " 'Y:/cloftus/analysis/thermal_baboon_project/complete_thermal_annotations_2020_10_21/annotations/json\\\\video_20190816_163006334000_annotation_2126_895089823_data.json',\n",
       " 'Y:/cloftus/analysis/thermal_baboon_project/complete_thermal_annotations_2020_10_21/annotations/json\\\\video_20190816_173006392000_annotation_2127_299430263_data.json',\n",
       " 'Y:/cloftus/analysis/thermal_baboon_project/complete_thermal_annotations_2020_10_21/annotations/json\\\\video_20190816_173006392000_annotation_2128_11547115793_data.json',\n",
       " 'Y:/cloftus/analysis/thermal_baboon_project/complete_thermal_annotations_2020_10_21/annotations/json\\\\video_20190816_183006487000_annotation_2218_839984313_data.json',\n",
       " 'Y:/cloftus/analysis/thermal_baboon_project/complete_thermal_annotations_2020_10_21/annotations/json\\\\video_20190816_193006576000_annotation_2219_896990013_data.json',\n",
       " 'Y:/cloftus/analysis/thermal_baboon_project/complete_thermal_annotations_2020_10_21/annotations/json\\\\video_20190816_203006686000_annotation_2226_296930013_data.json',\n",
       " 'Y:/cloftus/analysis/thermal_baboon_project/complete_thermal_annotations_2020_10_21/annotations/json\\\\video_20190817_140002320000_annotation_2216_17792178243_data.json',\n",
       " 'Y:/cloftus/analysis/thermal_baboon_project/complete_thermal_annotations_2020_10_21/annotations/json\\\\video_20190817_150002438000_annotation_2212_618762173_data.json',\n",
       " 'Y:/cloftus/analysis/thermal_baboon_project/complete_thermal_annotations_2020_10_21/annotations/json\\\\video_20190817_150002438000_annotation_2217_861986513_data.json',\n",
       " 'Y:/cloftus/analysis/thermal_baboon_project/complete_thermal_annotations_2020_10_21/annotations/json\\\\video_20190817_160002477000_annotation_2227_894189733_data.json',\n",
       " 'Y:/cloftus/analysis/thermal_baboon_project/complete_thermal_annotations_2020_10_21/annotations/json\\\\video_20190817_170002514000_annotation_2228_896389953_data.json',\n",
       " 'Y:/cloftus/analysis/thermal_baboon_project/complete_thermal_annotations_2020_10_21/annotations/json\\\\video_20190817_180002621000_annotation_2230_898790193_data.json',\n",
       " 'Y:/cloftus/analysis/thermal_baboon_project/complete_thermal_annotations_2020_10_21/annotations/json\\\\video_20190817_190002669000_annotation_2258_138614183_data.json',\n",
       " 'Y:/cloftus/analysis/thermal_baboon_project/complete_thermal_annotations_2020_10_21/annotations/json\\\\video_20190818_141102437000_annotation_2330_783878703_data.json',\n",
       " 'Y:/cloftus/analysis/thermal_baboon_project/complete_thermal_annotations_2020_10_21/annotations/json\\\\video_20190818_151102522000_annotation_2332_822882603_data.json',\n",
       " 'Y:/cloftus/analysis/thermal_baboon_project/complete_thermal_annotations_2020_10_21/annotations/json\\\\video_20190819_142001179000_annotation_2331_804680783_data.json',\n",
       " 'Y:/cloftus/analysis/thermal_baboon_project/complete_thermal_annotations_2020_10_21/annotations/json\\\\video_20190819_152001210000_annotation_2350_897890103_data.json',\n",
       " 'Y:/cloftus/analysis/thermal_baboon_project/complete_thermal_annotations_2020_10_21/annotations/json\\\\video_20190820_142303114000_annotation_2333_624462763_data.json',\n",
       " 'Y:/cloftus/analysis/thermal_baboon_project/complete_thermal_annotations_2020_10_21/annotations/json\\\\video_20190821_140101017000_annotation_2339_17562175943_data.json',\n",
       " 'Y:/cloftus/analysis/thermal_baboon_project/complete_thermal_annotations_2020_10_21/annotations/json\\\\video_20190821_150101104000_annotation_2349_10604106363_data.json']"
      ]
     },
     "execution_count": 6,
     "metadata": {},
     "output_type": "execute_result"
    }
   ],
   "source": [
    "loopy_annotations = glob.glob(new_annotations_root+'/*')\n",
    "loopy_annotations"
   ]
  },
  {
   "cell_type": "code",
   "execution_count": null,
   "metadata": {},
   "outputs": [],
   "source": []
  },
  {
   "cell_type": "code",
   "execution_count": 7,
   "metadata": {},
   "outputs": [
    {
     "name": "stdout",
     "output_type": "stream",
     "text": [
      "0 / 97 done. 0 bad annotations.\n",
      "10 / 97 done. 0 bad annotations.\n",
      "20 / 97 done. 0 bad annotations.\n",
      "30 / 97 done. 0 bad annotations.\n",
      "40 / 97 done. 0 bad annotations.\n",
      "50 / 97 done. 0 bad annotations.\n",
      "60 / 97 done. 0 bad annotations.\n",
      "70 / 97 done. 0 bad annotations.\n",
      "80 / 97 done. 0 bad annotations.\n",
      "90 / 97 done. 0 bad annotations.\n",
      "processed 28557 annotations in 977 images\n"
     ]
    }
   ],
   "source": [
    "bad_annotation_count = 0\n",
    "bad_folders = []\n",
    "last_bad_image_ids = []\n",
    "\n",
    "# one id for every image\n",
    "image_id = 1\n",
    "\n",
    "file_id_dict = {}\n",
    "categories = {}\n",
    "# one id for every category\n",
    "category_id = 1\n",
    "\n",
    "# one id for every annotation\n",
    "annotation_id = 1\n",
    "\n",
    "annotations_raw = {}\n",
    "\n",
    "annotations_raw ['info'] = []\n",
    "annotations_raw ['info'].append({\n",
    "    'description': 'Raw COCO style baboon annotations',\n",
    "    'url': '',\n",
    "    'version': '1.0',\n",
    "    'year': 2021,\n",
    "    'contributor': 'Carter Loftus Ben Koger',\n",
    "    'date_created': '2021/01/26'    \n",
    "})\n",
    "\n",
    "annotations_raw ['licenses'] = []\n",
    "annotations_raw ['licenses'].append({\n",
    "    'url': '',\n",
    "    'id': 0,\n",
    "    'name': '',  \n",
    "})\n",
    "\n",
    "annotations_raw['images'] = []\n",
    "\n",
    "annotations_raw['annotations'] = []\n",
    "\n",
    "annotations_raw['categories'] = []\n",
    "\n",
    "\n",
    "for folder_num, folder in enumerate(baboon_folders[:]):\n",
    "    \n",
    "    if folder_num % 10 == 0:\n",
    "        print(f'{folder_num} / {len(baboon_folders)} done. {bad_annotation_count} bad annotations.')\n",
    "    \n",
    "    \n",
    "    loopy_json_file = os.path.join(new_annotations_root, os.path.basename(folder)+'.json')\n",
    "    \n",
    "    if os.path.exists( loopy_json_file ):\n",
    "        image_files = sorted(glob.glob(os.path.join(folder, '*.tiff')))\n",
    "        for image_file in image_files:\n",
    "            \n",
    "            # This was here for a previous fix of a frame that was annotated even though it was just an empty black frame. It isn't needed anymore because I fixed this in the original annotation\n",
    "            if os.path.basename(image_file) == '038_20190807_161442000000.tiff':\n",
    "                file_id_dict[int(os.path.basename(image_file).split('_')[0])] = 'skip'\n",
    "                \n",
    "                asdfas\n",
    "                \n",
    "                continue\n",
    "                \n",
    "            im = plt.imread(image_file)\n",
    "            shutil.copy(image_file, output_image_folder)\n",
    "            \n",
    "            file_id_dict[int(os.path.basename(image_file).split('_')[0])] = image_id\n",
    "            annotations_raw['images'].append({\n",
    "                'license': 0,\n",
    "                'file_name': os.path.basename(image_file),\n",
    "                'coco_url': '',\n",
    "                'height': im.shape[0],\n",
    "                'width': im.shape[1],\n",
    "                'date_captured': '',\n",
    "                'flickr_url': '',\n",
    "                'id': image_id\n",
    "            })\n",
    "            image_id += 1\n",
    "        \n",
    "        with open(loopy_json_file) as json_file:\n",
    "            loopy_annotations = json.load(json_file)\n",
    "        \n",
    "        for annotation in loopy_annotations:\n",
    "            \n",
    "            ## this makes all the baboons just tagged as 'baboon' and leaves out their size. Remove this line if we want to run the model considering the baboon's size in the frame\n",
    "            #annotation[ 'class' ] = 'baboon'\n",
    "            \n",
    "            if annotation['frame_count'] is None:\n",
    "                annotation['frame_count'] = annotation['frame_number']\n",
    "            if annotation['frame_count'] is None:\n",
    "                \n",
    "                asdfasdf \n",
    "                \n",
    "                bad_annotation_count += 1\n",
    "                bad_folders.append(folder)\n",
    "                last_bad_image_ids.append({'ff': image_id-len(image_files), 'lf': image_id})\n",
    "                continue\n",
    "            if file_id_dict[annotation['frame_count']] == 'skip':\n",
    "                print('skipping frame count {}'.format(annotation['frame_count']))\n",
    "                continue\n",
    "            \n",
    "            segmentation = [annotation['x0'], annotation['y0'],\n",
    "                            annotation['x1'], annotation['y1'],\n",
    "                            annotation['x2'], annotation['y2'],\n",
    "                            annotation['x3'], annotation['y3'],\n",
    "                           ]\n",
    "            \n",
    "            width = annotation['x1'] - annotation['x0']\n",
    "            height = annotation['y2'] - annotation['y0']\n",
    "            \n",
    "            bbox = [annotation['x0'], annotation['y0'],\n",
    "                    width, height\n",
    "                    ]\n",
    "            \n",
    "            if not annotation['class'] in categories.keys():\n",
    "                categories[annotation['class']] = category_id\n",
    "                category_id += 1\n",
    "            \n",
    "            annotations_raw['annotations'].append({\n",
    "                'segmentation': [segmentation],\n",
    "                'area': width*height,\n",
    "                'iscrowd': 0,\n",
    "                'image_id': file_id_dict[int(annotation['frame_count'])],\n",
    "                'bbox': bbox,\n",
    "                'category_id': categories[annotation['class']],\n",
    "                'id': annotation_id\n",
    "            })  \n",
    "\n",
    "            annotation_id += 1\n",
    "\n",
    "for category, category_id in categories.items():\n",
    "    annotations_raw['categories'].append({\n",
    "        'supercategory': 'baboon',\n",
    "        'id': category_id,\n",
    "        'name': category\n",
    "\n",
    "    })   \n",
    "    \n",
    "print('processed {} annotations in {} images'.format(annotation_id, image_id))\n",
    "\n",
    "\n",
    "\n",
    "with open(coco_annotation_file, 'w') as outfile:\n",
    "    json.dump(annotations_raw, outfile, indent=4)"
   ]
  },
  {
   "cell_type": "code",
   "execution_count": 8,
   "metadata": {},
   "outputs": [],
   "source": [
    "# bad_folders_set = []\n",
    "# last_bad_image_ids"
   ]
  },
  {
   "cell_type": "code",
   "execution_count": 9,
   "metadata": {},
   "outputs": [
    {
     "data": {
      "text/plain": [
       "0"
      ]
     },
     "execution_count": 9,
     "metadata": {},
     "output_type": "execute_result"
    }
   ],
   "source": [
    "len(last_bad_image_ids)"
   ]
  },
  {
   "cell_type": "code",
   "execution_count": 10,
   "metadata": {},
   "outputs": [
    {
     "name": "stdout",
     "output_type": "stream",
     "text": [
      "0\n"
     ]
    }
   ],
   "source": [
    "added = []\n",
    "bad_ids_set = []\n",
    "for d in last_bad_image_ids:\n",
    "    if d['ff'] not in added:\n",
    "        bad_ids_set.append(d)\n",
    "        added.append(d['ff'])\n",
    "print(len(bad_ids_set))"
   ]
  },
  {
   "cell_type": "code",
   "execution_count": 11,
   "metadata": {},
   "outputs": [
    {
     "data": {
      "text/plain": [
       "0"
      ]
     },
     "execution_count": 11,
     "metadata": {},
     "output_type": "execute_result"
    }
   ],
   "source": [
    "i = [d['frame_count'] for d in loopy_annotations if d['frame_count'] is None]\n",
    "len(i)"
   ]
  },
  {
   "cell_type": "code",
   "execution_count": 12,
   "metadata": {},
   "outputs": [
    {
     "data": {
      "text/plain": [
       "[]"
      ]
     },
     "execution_count": 12,
     "metadata": {},
     "output_type": "execute_result"
    }
   ],
   "source": [
    "i[:10]"
   ]
  },
  {
   "cell_type": "code",
   "execution_count": 13,
   "metadata": {},
   "outputs": [
    {
     "name": "stderr",
     "output_type": "stream",
     "text": [
      "** fvcore version of PathManager will be deprecated soon. **\n",
      "** Please migrate to the version in iopath repo. **\n",
      "https://github.com/facebookresearch/iopath \n",
      "\n"
     ]
    }
   ],
   "source": [
    "from detectron2.utils.visualizer import Visualizer\n",
    "from detectron2.data.datasets import register_coco_instances\n",
    "from detectron2.data import DatasetCatalog, MetadataCatalog\n",
    "import cv2\n",
    "import random"
   ]
  },
  {
   "cell_type": "code",
   "execution_count": 14,
   "metadata": {},
   "outputs": [],
   "source": [
    "register_coco_instances(\"baboons\", {}, coco_annotation_file, output_image_folder)"
   ]
  },
  {
   "cell_type": "code",
   "execution_count": 15,
   "metadata": {},
   "outputs": [],
   "source": [
    "%matplotlib inline\n",
    "\n",
    "dataset_dicts = DatasetCatalog.get(\"baboons\")\n",
    "metadata = MetadataCatalog.get(\"baboons\")\n",
    "\n",
    "counter = 0 \n",
    "\n",
    "print_dir = root + 'processed_coco_annotations'\n",
    "os.makedirs( print_dir, exist_ok = True )\n",
    "\n",
    "os.chdir( print_dir )\n",
    "\n",
    "for d in dataset_dicts[::70]:\n",
    "    img = cv2.imread(d[\"file_name\"])\n",
    "#         print(d[\"file_name\"])\n",
    "    visualizer = Visualizer(img[:, :, ::-1], metadata=metadata, scale=0.5)\n",
    "    vis = visualizer.draw_dataset_dict(d)\n",
    "    plt.figure(figsize=(10,10))\n",
    "    plt.imshow(vis.get_image())\n",
    "    plt.title(d[\"file_name\"])\n",
    "    plt.savefig( f'{counter:05}.png' )\n",
    "    \n",
    "    counter += 1\n",
    "#     plt.figure(figsize=(10,10))\n",
    "#     plt.imshow(img[:,:,::-1])\n",
    "    \n",
    "    \n",
    "#     cv2.imshow('im', vis.get_image()[:, :, ::-1])\n",
    "#     cv2.waitKey(0)\n",
    "#     cv2.destroyAllWindows()\n",
    "# plt.close('all')"
   ]
  },
  {
   "cell_type": "code",
   "execution_count": 16,
   "metadata": {},
   "outputs": [],
   "source": [
    "with open(coco_annotation_file) as file:\n",
    "    x = json.load(file)"
   ]
  },
  {
   "cell_type": "code",
   "execution_count": 17,
   "metadata": {},
   "outputs": [],
   "source": [
    "plt.close('all')"
   ]
  },
  {
   "cell_type": "code",
   "execution_count": 18,
   "metadata": {},
   "outputs": [
    {
     "data": {
      "text/plain": [
       "{'baboon_large': 1, 'baboon_medium': 2, 'baboon_small': 3}"
      ]
     },
     "execution_count": 18,
     "metadata": {},
     "output_type": "execute_result"
    }
   ],
   "source": [
    "categories"
   ]
  },
  {
   "cell_type": "code",
   "execution_count": null,
   "metadata": {},
   "outputs": [],
   "source": []
  }
 ],
 "metadata": {
  "kernelspec": {
   "display_name": "Python 3",
   "language": "python",
   "name": "python3"
  },
  "language_info": {
   "codemirror_mode": {
    "name": "ipython",
    "version": 3
   },
   "file_extension": ".py",
   "mimetype": "text/x-python",
   "name": "python",
   "nbconvert_exporter": "python",
   "pygments_lexer": "ipython3",
   "version": "3.8.3"
  }
 },
 "nbformat": 4,
 "nbformat_minor": 4
}
