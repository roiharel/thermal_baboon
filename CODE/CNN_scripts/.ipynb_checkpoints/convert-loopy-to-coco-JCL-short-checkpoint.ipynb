{
 "cells": [
  {
   "cell_type": "code",
   "execution_count": 1,
   "metadata": {},
   "outputs": [],
   "source": [
    "import json\n",
    "import os\n",
    "import glob\n",
    "import matplotlib.pyplot as plt\n",
    "import shutil"
   ]
  },
  {
   "cell_type": "code",
   "execution_count": 2,
   "metadata": {},
   "outputs": [],
   "source": [
    "\n",
    "## root on my local computer\n",
    "# root = 'C:/Users/cloftus/Documents/thermal_baboon/annotations/'\n",
    "\n",
    "## root on my HiWi computer\n",
    "root = 'C:/Users/meerkat/Documents/thermal_baboon/DATA/short_temp/'\n",
    "\n",
    "## root on the server\n",
    "#root = 'Y:/cloftus/analysis/thermal_baboon_project/'\n",
    "\n",
    "new_baboon_images_root = root + 'complete_thermal_annotations_2020_10_21/frames_matching_annotations'\n",
    "new_annotations_root = root + 'complete_thermal_annotations_2020_10_21/annotations/json'\n",
    "output_folder = root + 'all_coco_annotations'\n",
    "coco_annotation_file = os.path.join(output_folder, 'baboon_coco_annotations.json')\n",
    "output_image_folder = os.path.join(output_folder, 'images')\n",
    "os.makedirs(output_image_folder, exist_ok=True)\n",
    "baboon_folders = glob.glob(os.path.join(new_baboon_images_root, '*'))[:4]\n",
    "# print(*baboon_folders, sep='\\n')"
   ]
  },
  {
   "cell_type": "code",
   "execution_count": 3,
   "metadata": {},
   "outputs": [
    {
     "data": {
      "text/plain": [
       "'C:/Users/meerkat/Documents/thermal_baboon/DATA/short_temp/all_coco_annotations\\\\images'"
      ]
     },
     "execution_count": 3,
     "metadata": {},
     "output_type": "execute_result"
    }
   ],
   "source": [
    "output_image_folder"
   ]
  },
  {
   "cell_type": "code",
   "execution_count": 4,
   "metadata": {},
   "outputs": [],
   "source": [
    "image_files = glob.glob(os.path.join(new_baboon_images_root, '*', '*.tiff'))\n"
   ]
  },
  {
   "cell_type": "code",
   "execution_count": 5,
   "metadata": {},
   "outputs": [],
   "source": [
    "image_names = [os.path.basename(f) for f in image_files]\n",
    "short_names = ['_'.join(name.split('_')[1:]) for name in image_names]\n",
    "\n",
    "\n"
   ]
  },
  {
   "cell_type": "code",
   "execution_count": 6,
   "metadata": {},
   "outputs": [
    {
     "name": "stdout",
     "output_type": "stream",
     "text": [
      "13 13\n",
      "13 13\n"
     ]
    }
   ],
   "source": [
    "print(len(image_files), len(list(set(image_files))))\n",
    "print(len(short_names), len(list(set(short_names))))"
   ]
  },
  {
   "cell_type": "code",
   "execution_count": 7,
   "metadata": {},
   "outputs": [
    {
     "data": {
      "text/plain": [
       "['C:/Users/meerkat/Documents/thermal_baboon/DATA/short_temp/complete_thermal_annotations_2020_10_21/annotations/json\\\\video_1_20190731_annotation_1326_11171_data.json',\n",
       " 'C:/Users/meerkat/Documents/thermal_baboon/DATA/short_temp/complete_thermal_annotations_2020_10_21/annotations/json\\\\video_1_20190731_annotation_1327_18251_data.json']"
      ]
     },
     "execution_count": 7,
     "metadata": {},
     "output_type": "execute_result"
    }
   ],
   "source": [
    "loopy_annotations = glob.glob(new_annotations_root+'/*')[:4]\n",
    "loopy_annotations"
   ]
  },
  {
   "cell_type": "code",
   "execution_count": null,
   "metadata": {},
   "outputs": [],
   "source": []
  },
  {
   "cell_type": "code",
   "execution_count": 8,
   "metadata": {},
   "outputs": [
    {
     "name": "stdout",
     "output_type": "stream",
     "text": [
      "0 / 2 done. 0 bad annotations.\n",
      "processed 425 annotations in 14 images\n"
     ]
    }
   ],
   "source": [
    "bad_annotation_count = 0\n",
    "bad_folders = []\n",
    "last_bad_image_ids = []\n",
    "\n",
    "# one id for every image\n",
    "image_id = 1\n",
    "\n",
    "file_id_dict = {}\n",
    "categories = {}\n",
    "# one id for every category\n",
    "category_id = 1\n",
    "\n",
    "# one id for every annotation\n",
    "annotation_id = 1\n",
    "\n",
    "annotations_raw = {}\n",
    "\n",
    "annotations_raw ['info'] = []\n",
    "annotations_raw ['info'].append({\n",
    "    'description': 'Raw COCO style baboon annotations',\n",
    "    'url': '',\n",
    "    'version': '1.0',\n",
    "    'year': 2021,\n",
    "    'contributor': 'Carter Loftus Ben Koger',\n",
    "    'date_created': '2021/01/26'    \n",
    "})\n",
    "\n",
    "annotations_raw ['licenses'] = []\n",
    "annotations_raw ['licenses'].append({\n",
    "    'url': '',\n",
    "    'id': 0,\n",
    "    'name': '',  \n",
    "})\n",
    "\n",
    "annotations_raw['images'] = []\n",
    "\n",
    "annotations_raw['annotations'] = []\n",
    "\n",
    "annotations_raw['categories'] = []\n",
    "\n",
    "\n",
    "for folder_num, folder in enumerate(baboon_folders[:]):\n",
    "    \n",
    "    if folder_num % 10 == 0:\n",
    "        print(f'{folder_num} / {len(baboon_folders)} done. {bad_annotation_count} bad annotations.')\n",
    "    \n",
    "    \n",
    "    loopy_json_file = os.path.join(new_annotations_root, os.path.basename(folder)+'.json')\n",
    "    \n",
    "    if os.path.exists( loopy_json_file ):\n",
    "        image_files = sorted(glob.glob(os.path.join(folder, '*.tiff')))\n",
    "        for image_file in image_files:\n",
    "            \n",
    "            # This was here for a previous fix of a frame that was annotated even though it was just an empty black frame. It isn't needed anymore because I fixed this in the original annotation\n",
    "            if os.path.basename(image_file) == '038_20190807_161442000000.tiff':\n",
    "                file_id_dict[int(os.path.basename(image_file).split('_')[0])] = 'skip'\n",
    "                \n",
    "                asdfas\n",
    "                \n",
    "                continue\n",
    "                \n",
    "            im = plt.imread(image_file)\n",
    "            shutil.copy(image_file, output_image_folder)\n",
    "            \n",
    "            file_id_dict[int(os.path.basename(image_file).split('_')[0])] = image_id\n",
    "            annotations_raw['images'].append({\n",
    "                'license': 0,\n",
    "                'file_name': os.path.basename(image_file),\n",
    "                'coco_url': '',\n",
    "                'height': im.shape[0],\n",
    "                'width': im.shape[1],\n",
    "                'date_captured': '',\n",
    "                'flickr_url': '',\n",
    "                'id': image_id\n",
    "            })\n",
    "            image_id += 1\n",
    "        \n",
    "        with open(loopy_json_file) as json_file:\n",
    "            loopy_annotations = json.load(json_file)\n",
    "        \n",
    "        for annotation in loopy_annotations:\n",
    "            \n",
    "            ## this makes all the baboons just tagged as 'baboon' and leaves out their size. Remove this line if we want to run the model considering the baboon's size in the frame\n",
    "            annotation[ 'class' ] = 'baboon'\n",
    "            \n",
    "            if annotation['frame_count'] is None:\n",
    "                annotation['frame_count'] = annotation['frame_number']\n",
    "            if annotation['frame_count'] is None:\n",
    "                \n",
    "                asdfasdf \n",
    "                \n",
    "                bad_annotation_count += 1\n",
    "                bad_folders.append(folder)\n",
    "                last_bad_image_ids.append({'ff': image_id-len(image_files), 'lf': image_id})\n",
    "                continue\n",
    "            if file_id_dict[annotation['frame_count']] == 'skip':\n",
    "                print('skipping frame count {}'.format(annotation['frame_count']))\n",
    "                continue\n",
    "            \n",
    "            segmentation = [annotation['x0'], annotation['y0'],\n",
    "                            annotation['x1'], annotation['y1'],\n",
    "                            annotation['x2'], annotation['y2'],\n",
    "                            annotation['x3'], annotation['y3'],\n",
    "                           ]\n",
    "            \n",
    "            width = annotation['x1'] - annotation['x0']\n",
    "            height = annotation['y2'] - annotation['y0']\n",
    "            \n",
    "            bbox = [annotation['x0'], annotation['y0'],\n",
    "                    width, height\n",
    "                    ]\n",
    "            \n",
    "            if not annotation['class'] in categories.keys():\n",
    "                categories[annotation['class']] = category_id\n",
    "                category_id += 1\n",
    "            \n",
    "            annotations_raw['annotations'].append({\n",
    "                'segmentation': [segmentation],\n",
    "                'area': width*height,\n",
    "                'iscrowd': 0,\n",
    "                'image_id': file_id_dict[int(annotation['frame_count'])],\n",
    "                'bbox': bbox,\n",
    "                'category_id': categories[annotation['class']],\n",
    "                'id': annotation_id\n",
    "            })  \n",
    "\n",
    "            annotation_id += 1\n",
    "\n",
    "for category, category_id in categories.items():\n",
    "    annotations_raw['categories'].append({\n",
    "        'supercategory': 'baboon',\n",
    "        'id': category_id,\n",
    "        'name': category\n",
    "\n",
    "    })   \n",
    "    \n",
    "print('processed {} annotations in {} images'.format(annotation_id, image_id))\n",
    "\n",
    "\n",
    "\n",
    "with open(coco_annotation_file, 'w') as outfile:\n",
    "    json.dump(annotations_raw, outfile, indent=4)"
   ]
  },
  {
   "cell_type": "code",
   "execution_count": 9,
   "metadata": {},
   "outputs": [],
   "source": [
    "# bad_folders_set = []\n",
    "# last_bad_image_ids"
   ]
  },
  {
   "cell_type": "code",
   "execution_count": 10,
   "metadata": {},
   "outputs": [
    {
     "data": {
      "text/plain": [
       "0"
      ]
     },
     "execution_count": 10,
     "metadata": {},
     "output_type": "execute_result"
    }
   ],
   "source": [
    "len(last_bad_image_ids)"
   ]
  },
  {
   "cell_type": "code",
   "execution_count": 11,
   "metadata": {},
   "outputs": [
    {
     "name": "stdout",
     "output_type": "stream",
     "text": [
      "0\n"
     ]
    }
   ],
   "source": [
    "added = []\n",
    "bad_ids_set = []\n",
    "for d in last_bad_image_ids:\n",
    "    if d['ff'] not in added:\n",
    "        bad_ids_set.append(d)\n",
    "        added.append(d['ff'])\n",
    "print(len(bad_ids_set))"
   ]
  },
  {
   "cell_type": "code",
   "execution_count": 12,
   "metadata": {},
   "outputs": [
    {
     "data": {
      "text/plain": [
       "0"
      ]
     },
     "execution_count": 12,
     "metadata": {},
     "output_type": "execute_result"
    }
   ],
   "source": [
    "i = [d['frame_count'] for d in loopy_annotations if d['frame_count'] is None]\n",
    "len(i)"
   ]
  },
  {
   "cell_type": "code",
   "execution_count": 13,
   "metadata": {},
   "outputs": [
    {
     "data": {
      "text/plain": [
       "[]"
      ]
     },
     "execution_count": 13,
     "metadata": {},
     "output_type": "execute_result"
    }
   ],
   "source": [
    "i[:10]"
   ]
  },
  {
   "cell_type": "code",
   "execution_count": 14,
   "metadata": {},
   "outputs": [
    {
     "name": "stderr",
     "output_type": "stream",
     "text": [
      "** fvcore version of PathManager will be deprecated soon. **\n",
      "** Please migrate to the version in iopath repo. **\n",
      "https://github.com/facebookresearch/iopath \n",
      "\n"
     ]
    }
   ],
   "source": [
    "from detectron2.utils.visualizer import Visualizer\n",
    "from detectron2.data.datasets import register_coco_instances\n",
    "from detectron2.data import DatasetCatalog, MetadataCatalog\n",
    "import cv2\n",
    "import random"
   ]
  },
  {
   "cell_type": "code",
   "execution_count": 15,
   "metadata": {},
   "outputs": [],
   "source": [
    "register_coco_instances(\"baboons\", {}, coco_annotation_file, output_image_folder)"
   ]
  },
  {
   "cell_type": "code",
   "execution_count": 16,
   "metadata": {},
   "outputs": [],
   "source": [
    "%matplotlib inline\n",
    "\n",
    "dataset_dicts = DatasetCatalog.get(\"baboons\")\n",
    "metadata = MetadataCatalog.get(\"baboons\")\n",
    "\n",
    "counter = 0 \n",
    "\n",
    "print_dir = root + 'processed_coco_annotations'\n",
    "os.makedirs( print_dir, exist_ok = True )\n",
    "\n",
    "os.chdir( print_dir )\n",
    "\n",
    "for d in dataset_dicts[:]:\n",
    "    img = cv2.imread(d[\"file_name\"])\n",
    "#         print(d[\"file_name\"])\n",
    "    visualizer = Visualizer(img[:, :, ::-1], metadata=metadata, scale=0.5)\n",
    "    vis = visualizer.draw_dataset_dict(d)\n",
    "    plt.figure(figsize=(10,10))\n",
    "    plt.imshow(vis.get_image())\n",
    "    plt.title(d[\"file_name\"])\n",
    "    plt.savefig( f'{counter:05}.png' )\n",
    "    \n",
    "    counter += 1\n",
    "#     plt.figure(figsize=(10,10))\n",
    "#     plt.imshow(img[:,:,::-1])\n",
    "    \n",
    "    \n",
    "#     cv2.imshow('im', vis.get_image()[:, :, ::-1])\n",
    "#     cv2.waitKey(0)\n",
    "#     cv2.destroyAllWindows()\n",
    "# plt.close('all')"
   ]
  },
  {
   "cell_type": "code",
   "execution_count": 17,
   "metadata": {},
   "outputs": [],
   "source": [
    "with open(coco_annotation_file) as file:\n",
    "    x = json.load(file)"
   ]
  },
  {
   "cell_type": "code",
   "execution_count": 18,
   "metadata": {},
   "outputs": [],
   "source": [
    "plt.close('all')"
   ]
  },
  {
   "cell_type": "code",
   "execution_count": 19,
   "metadata": {},
   "outputs": [
    {
     "data": {
      "text/plain": [
       "{'baboon': 1}"
      ]
     },
     "execution_count": 19,
     "metadata": {},
     "output_type": "execute_result"
    }
   ],
   "source": [
    "categories"
   ]
  },
  {
   "cell_type": "code",
   "execution_count": null,
   "metadata": {},
   "outputs": [],
   "source": []
  }
 ],
 "metadata": {
  "kernelspec": {
   "display_name": "Python 3",
   "language": "python",
   "name": "python3"
  },
  "language_info": {
   "codemirror_mode": {
    "name": "ipython",
    "version": 3
   },
   "file_extension": ".py",
   "mimetype": "text/x-python",
   "name": "python",
   "nbconvert_exporter": "python",
   "pygments_lexer": "ipython3",
   "version": "3.8.3"
  }
 },
 "nbformat": 4,
 "nbformat_minor": 4
}
